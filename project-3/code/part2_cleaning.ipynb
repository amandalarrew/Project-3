{
 "cells": [
  {
   "cell_type": "markdown",
   "id": "a867aa80-24e8-4374-8361-cae392c60d0c",
   "metadata": {},
   "source": [
    "# Project 3: Advanced Running Retargeting using NLP\n",
    "\n",
    "---\n",
    "\n",
    "\n",
    "## Part 2: Initial Cleaning\n",
    "\n",
    "This section involves initial cleaning of the raw Reddit datasets. The original raw r/AdvancedRunning dataset contained 13454 rows and 92 columns, while the original raw r/C25K dataset contained 15037 rows and 96 columns. 'Removed' posts were dropped from both datasets. New data frames were created for both subreddits containing 'author', 'title' and 'selftext' (post). The 'title' and 'selftext' columns were merged into one 'post' column. Rows with missing values were then identified and dropped from both datasets. Duplicate posts were then dropped from both datasets. Reddit moderators were identified and moderator posts were dropped from each dataset. After initial cleaning, the r/AdvancedRunning dataset contained 8440 rows and the r/C25K contained 5132 rows. A target column for classification was added to each dataset, where '1' indicates r/AdvancedRunning and '0' indicates r/C25k. The initially cleaned datasets were then concatenated into one dataset to be used for pre-processing in the following section."
   ]
  },
  {
   "cell_type": "code",
   "execution_count": 28,
   "id": "dfc5d29d-3fd2-402f-af06-3480d0ab1a83",
   "metadata": {},
   "outputs": [],
   "source": [
    "#imports\n",
    "import pandas as pd\n",
    "import numpy as np\n",
    "import seaborn as sns\n",
    "import matplotlib.pyplot as plt"
   ]
  },
  {
   "cell_type": "code",
   "execution_count": 26,
   "id": "b35dff8b-c75b-4304-a461-74e9f893cc83",
   "metadata": {},
   "outputs": [],
   "source": [
    "#Read in raw csv\n",
    "\n",
    "raw_advanced_running=pd.read_csv('../data/raw_advanced_running.csv', low_memory=False)\n",
    "raw_couch_5k=pd.read_csv('../data/raw_couch_5k.csv', low_memory=False)"
   ]
  },
  {
   "cell_type": "markdown",
   "id": "860b3a01-2cae-4174-8c80-45808c9490ca",
   "metadata": {},
   "source": [
    "#### Initial Data Inspection"
   ]
  },
  {
   "cell_type": "code",
   "execution_count": 27,
   "id": "84ec85b4-d31a-422d-a4cf-bb31a8309734",
   "metadata": {},
   "outputs": [
    {
     "data": {
      "text/html": [
       "<div>\n",
       "<style scoped>\n",
       "    .dataframe tbody tr th:only-of-type {\n",
       "        vertical-align: middle;\n",
       "    }\n",
       "\n",
       "    .dataframe tbody tr th {\n",
       "        vertical-align: top;\n",
       "    }\n",
       "\n",
       "    .dataframe thead th {\n",
       "        text-align: right;\n",
       "    }\n",
       "</style>\n",
       "<table border=\"1\" class=\"dataframe\">\n",
       "  <thead>\n",
       "    <tr style=\"text-align: right;\">\n",
       "      <th></th>\n",
       "      <th>all_awardings</th>\n",
       "      <th>allow_live_comments</th>\n",
       "      <th>author</th>\n",
       "      <th>author_flair_css_class</th>\n",
       "      <th>author_flair_richtext</th>\n",
       "      <th>author_flair_text</th>\n",
       "      <th>author_flair_type</th>\n",
       "      <th>author_fullname</th>\n",
       "      <th>author_is_blocked</th>\n",
       "      <th>author_patreon_flair</th>\n",
       "      <th>...</th>\n",
       "      <th>author_id</th>\n",
       "      <th>brand_safe</th>\n",
       "      <th>media</th>\n",
       "      <th>media_embed</th>\n",
       "      <th>secure_media</th>\n",
       "      <th>secure_media_embed</th>\n",
       "      <th>approved_at_utc</th>\n",
       "      <th>banned_at_utc</th>\n",
       "      <th>view_count</th>\n",
       "      <th>author_created_utc</th>\n",
       "    </tr>\n",
       "  </thead>\n",
       "  <tbody>\n",
       "    <tr>\n",
       "      <th>0</th>\n",
       "      <td>[]</td>\n",
       "      <td>False</td>\n",
       "      <td>Brojadyn2006</td>\n",
       "      <td>NaN</td>\n",
       "      <td>[]</td>\n",
       "      <td>NaN</td>\n",
       "      <td>text</td>\n",
       "      <td>t2_73m74dx2</td>\n",
       "      <td>False</td>\n",
       "      <td>False</td>\n",
       "      <td>...</td>\n",
       "      <td>NaN</td>\n",
       "      <td>NaN</td>\n",
       "      <td>NaN</td>\n",
       "      <td>NaN</td>\n",
       "      <td>NaN</td>\n",
       "      <td>NaN</td>\n",
       "      <td>NaN</td>\n",
       "      <td>NaN</td>\n",
       "      <td>NaN</td>\n",
       "      <td>NaN</td>\n",
       "    </tr>\n",
       "    <tr>\n",
       "      <th>1</th>\n",
       "      <td>[]</td>\n",
       "      <td>False</td>\n",
       "      <td>Tea-reps</td>\n",
       "      <td>plain</td>\n",
       "      <td>[]</td>\n",
       "      <td>28F, 17:59 5K / 36:33 10K</td>\n",
       "      <td>text</td>\n",
       "      <td>t2_co242mdb</td>\n",
       "      <td>False</td>\n",
       "      <td>False</td>\n",
       "      <td>...</td>\n",
       "      <td>NaN</td>\n",
       "      <td>NaN</td>\n",
       "      <td>NaN</td>\n",
       "      <td>NaN</td>\n",
       "      <td>NaN</td>\n",
       "      <td>NaN</td>\n",
       "      <td>NaN</td>\n",
       "      <td>NaN</td>\n",
       "      <td>NaN</td>\n",
       "      <td>NaN</td>\n",
       "    </tr>\n",
       "    <tr>\n",
       "      <th>2</th>\n",
       "      <td>[]</td>\n",
       "      <td>False</td>\n",
       "      <td>Caffeinated262</td>\n",
       "      <td>NaN</td>\n",
       "      <td>[]</td>\n",
       "      <td>NaN</td>\n",
       "      <td>text</td>\n",
       "      <td>t2_lbkrpopb</td>\n",
       "      <td>False</td>\n",
       "      <td>False</td>\n",
       "      <td>...</td>\n",
       "      <td>NaN</td>\n",
       "      <td>NaN</td>\n",
       "      <td>NaN</td>\n",
       "      <td>NaN</td>\n",
       "      <td>NaN</td>\n",
       "      <td>NaN</td>\n",
       "      <td>NaN</td>\n",
       "      <td>NaN</td>\n",
       "      <td>NaN</td>\n",
       "      <td>NaN</td>\n",
       "    </tr>\n",
       "    <tr>\n",
       "      <th>3</th>\n",
       "      <td>[]</td>\n",
       "      <td>False</td>\n",
       "      <td>blueheeler9</td>\n",
       "      <td>NaN</td>\n",
       "      <td>[]</td>\n",
       "      <td>NaN</td>\n",
       "      <td>text</td>\n",
       "      <td>t2_mkehpd7</td>\n",
       "      <td>False</td>\n",
       "      <td>False</td>\n",
       "      <td>...</td>\n",
       "      <td>NaN</td>\n",
       "      <td>NaN</td>\n",
       "      <td>NaN</td>\n",
       "      <td>NaN</td>\n",
       "      <td>NaN</td>\n",
       "      <td>NaN</td>\n",
       "      <td>NaN</td>\n",
       "      <td>NaN</td>\n",
       "      <td>NaN</td>\n",
       "      <td>NaN</td>\n",
       "    </tr>\n",
       "    <tr>\n",
       "      <th>4</th>\n",
       "      <td>[]</td>\n",
       "      <td>False</td>\n",
       "      <td>zzach_519</td>\n",
       "      <td>NaN</td>\n",
       "      <td>[]</td>\n",
       "      <td>NaN</td>\n",
       "      <td>text</td>\n",
       "      <td>t2_4homla04</td>\n",
       "      <td>False</td>\n",
       "      <td>False</td>\n",
       "      <td>...</td>\n",
       "      <td>NaN</td>\n",
       "      <td>NaN</td>\n",
       "      <td>NaN</td>\n",
       "      <td>NaN</td>\n",
       "      <td>NaN</td>\n",
       "      <td>NaN</td>\n",
       "      <td>NaN</td>\n",
       "      <td>NaN</td>\n",
       "      <td>NaN</td>\n",
       "      <td>NaN</td>\n",
       "    </tr>\n",
       "  </tbody>\n",
       "</table>\n",
       "<p>5 rows × 92 columns</p>\n",
       "</div>"
      ],
      "text/plain": [
       "  all_awardings allow_live_comments          author author_flair_css_class  \\\n",
       "0            []               False    Brojadyn2006                    NaN   \n",
       "1            []               False        Tea-reps                  plain   \n",
       "2            []               False  Caffeinated262                    NaN   \n",
       "3            []               False     blueheeler9                    NaN   \n",
       "4            []               False       zzach_519                    NaN   \n",
       "\n",
       "  author_flair_richtext          author_flair_text author_flair_type  \\\n",
       "0                    []                        NaN              text   \n",
       "1                    []  28F, 17:59 5K / 36:33 10K              text   \n",
       "2                    []                        NaN              text   \n",
       "3                    []                        NaN              text   \n",
       "4                    []                        NaN              text   \n",
       "\n",
       "  author_fullname author_is_blocked author_patreon_flair  ... author_id  \\\n",
       "0     t2_73m74dx2             False                False  ...       NaN   \n",
       "1     t2_co242mdb             False                False  ...       NaN   \n",
       "2     t2_lbkrpopb             False                False  ...       NaN   \n",
       "3      t2_mkehpd7             False                False  ...       NaN   \n",
       "4     t2_4homla04             False                False  ...       NaN   \n",
       "\n",
       "  brand_safe media media_embed  secure_media secure_media_embed  \\\n",
       "0        NaN   NaN         NaN           NaN                NaN   \n",
       "1        NaN   NaN         NaN           NaN                NaN   \n",
       "2        NaN   NaN         NaN           NaN                NaN   \n",
       "3        NaN   NaN         NaN           NaN                NaN   \n",
       "4        NaN   NaN         NaN           NaN                NaN   \n",
       "\n",
       "  approved_at_utc banned_at_utc view_count author_created_utc  \n",
       "0             NaN           NaN        NaN                NaN  \n",
       "1             NaN           NaN        NaN                NaN  \n",
       "2             NaN           NaN        NaN                NaN  \n",
       "3             NaN           NaN        NaN                NaN  \n",
       "4             NaN           NaN        NaN                NaN  \n",
       "\n",
       "[5 rows x 92 columns]"
      ]
     },
     "execution_count": 27,
     "metadata": {},
     "output_type": "execute_result"
    }
   ],
   "source": [
    "#Look at data\n",
    "raw_advanced_running.head()"
   ]
  },
  {
   "cell_type": "code",
   "execution_count": 5,
   "id": "7d8564f2-3214-4026-91b4-9036e34026fe",
   "metadata": {},
   "outputs": [
    {
     "data": {
      "text/html": [
       "<div>\n",
       "<style scoped>\n",
       "    .dataframe tbody tr th:only-of-type {\n",
       "        vertical-align: middle;\n",
       "    }\n",
       "\n",
       "    .dataframe tbody tr th {\n",
       "        vertical-align: top;\n",
       "    }\n",
       "\n",
       "    .dataframe thead th {\n",
       "        text-align: right;\n",
       "    }\n",
       "</style>\n",
       "<table border=\"1\" class=\"dataframe\">\n",
       "  <thead>\n",
       "    <tr style=\"text-align: right;\">\n",
       "      <th></th>\n",
       "      <th>all_awardings</th>\n",
       "      <th>allow_live_comments</th>\n",
       "      <th>author</th>\n",
       "      <th>author_flair_css_class</th>\n",
       "      <th>author_flair_richtext</th>\n",
       "      <th>author_flair_text</th>\n",
       "      <th>author_flair_type</th>\n",
       "      <th>author_fullname</th>\n",
       "      <th>author_is_blocked</th>\n",
       "      <th>author_patreon_flair</th>\n",
       "      <th>...</th>\n",
       "      <th>updated_utc</th>\n",
       "      <th>og_description</th>\n",
       "      <th>og_title</th>\n",
       "      <th>rte_mode</th>\n",
       "      <th>brand_safe</th>\n",
       "      <th>banned_by</th>\n",
       "      <th>approved_at_utc</th>\n",
       "      <th>author_created_utc</th>\n",
       "      <th>banned_at_utc</th>\n",
       "      <th>suggested_sort</th>\n",
       "    </tr>\n",
       "  </thead>\n",
       "  <tbody>\n",
       "    <tr>\n",
       "      <th>0</th>\n",
       "      <td>[]</td>\n",
       "      <td>False</td>\n",
       "      <td>Maleficent-Sock-6800</td>\n",
       "      <td>NaN</td>\n",
       "      <td>[]</td>\n",
       "      <td>NaN</td>\n",
       "      <td>text</td>\n",
       "      <td>t2_lnrcxghk</td>\n",
       "      <td>False</td>\n",
       "      <td>False</td>\n",
       "      <td>...</td>\n",
       "      <td>NaN</td>\n",
       "      <td>NaN</td>\n",
       "      <td>NaN</td>\n",
       "      <td>NaN</td>\n",
       "      <td>NaN</td>\n",
       "      <td>NaN</td>\n",
       "      <td>NaN</td>\n",
       "      <td>NaN</td>\n",
       "      <td>NaN</td>\n",
       "      <td>NaN</td>\n",
       "    </tr>\n",
       "    <tr>\n",
       "      <th>1</th>\n",
       "      <td>[]</td>\n",
       "      <td>False</td>\n",
       "      <td>BbNowSayMyNamebB</td>\n",
       "      <td>done</td>\n",
       "      <td>[]</td>\n",
       "      <td>DONE!</td>\n",
       "      <td>text</td>\n",
       "      <td>t2_3wjl49d</td>\n",
       "      <td>False</td>\n",
       "      <td>False</td>\n",
       "      <td>...</td>\n",
       "      <td>NaN</td>\n",
       "      <td>NaN</td>\n",
       "      <td>NaN</td>\n",
       "      <td>NaN</td>\n",
       "      <td>NaN</td>\n",
       "      <td>NaN</td>\n",
       "      <td>NaN</td>\n",
       "      <td>NaN</td>\n",
       "      <td>NaN</td>\n",
       "      <td>NaN</td>\n",
       "    </tr>\n",
       "    <tr>\n",
       "      <th>2</th>\n",
       "      <td>[]</td>\n",
       "      <td>False</td>\n",
       "      <td>FeeValuable22</td>\n",
       "      <td>NaN</td>\n",
       "      <td>[]</td>\n",
       "      <td>NaN</td>\n",
       "      <td>text</td>\n",
       "      <td>t2_bjlogeog</td>\n",
       "      <td>False</td>\n",
       "      <td>False</td>\n",
       "      <td>...</td>\n",
       "      <td>NaN</td>\n",
       "      <td>NaN</td>\n",
       "      <td>NaN</td>\n",
       "      <td>NaN</td>\n",
       "      <td>NaN</td>\n",
       "      <td>NaN</td>\n",
       "      <td>NaN</td>\n",
       "      <td>NaN</td>\n",
       "      <td>NaN</td>\n",
       "      <td>NaN</td>\n",
       "    </tr>\n",
       "    <tr>\n",
       "      <th>3</th>\n",
       "      <td>[]</td>\n",
       "      <td>False</td>\n",
       "      <td>Resident_Ad_4004</td>\n",
       "      <td>NaN</td>\n",
       "      <td>[]</td>\n",
       "      <td>NaN</td>\n",
       "      <td>text</td>\n",
       "      <td>t2_7jljjuv5</td>\n",
       "      <td>False</td>\n",
       "      <td>False</td>\n",
       "      <td>...</td>\n",
       "      <td>NaN</td>\n",
       "      <td>NaN</td>\n",
       "      <td>NaN</td>\n",
       "      <td>NaN</td>\n",
       "      <td>NaN</td>\n",
       "      <td>NaN</td>\n",
       "      <td>NaN</td>\n",
       "      <td>NaN</td>\n",
       "      <td>NaN</td>\n",
       "      <td>NaN</td>\n",
       "    </tr>\n",
       "    <tr>\n",
       "      <th>4</th>\n",
       "      <td>[]</td>\n",
       "      <td>False</td>\n",
       "      <td>C25k_bot</td>\n",
       "      <td>NaN</td>\n",
       "      <td>[]</td>\n",
       "      <td>NaN</td>\n",
       "      <td>text</td>\n",
       "      <td>t2_148nft</td>\n",
       "      <td>False</td>\n",
       "      <td>False</td>\n",
       "      <td>...</td>\n",
       "      <td>NaN</td>\n",
       "      <td>NaN</td>\n",
       "      <td>NaN</td>\n",
       "      <td>NaN</td>\n",
       "      <td>NaN</td>\n",
       "      <td>NaN</td>\n",
       "      <td>NaN</td>\n",
       "      <td>NaN</td>\n",
       "      <td>NaN</td>\n",
       "      <td>NaN</td>\n",
       "    </tr>\n",
       "  </tbody>\n",
       "</table>\n",
       "<p>5 rows × 96 columns</p>\n",
       "</div>"
      ],
      "text/plain": [
       "  all_awardings allow_live_comments                author  \\\n",
       "0            []               False  Maleficent-Sock-6800   \n",
       "1            []               False      BbNowSayMyNamebB   \n",
       "2            []               False         FeeValuable22   \n",
       "3            []               False      Resident_Ad_4004   \n",
       "4            []               False              C25k_bot   \n",
       "\n",
       "  author_flair_css_class author_flair_richtext author_flair_text  \\\n",
       "0                    NaN                    []               NaN   \n",
       "1                   done                    []             DONE!   \n",
       "2                    NaN                    []               NaN   \n",
       "3                    NaN                    []               NaN   \n",
       "4                    NaN                    []               NaN   \n",
       "\n",
       "  author_flair_type author_fullname author_is_blocked author_patreon_flair  \\\n",
       "0              text     t2_lnrcxghk             False                False   \n",
       "1              text      t2_3wjl49d             False                False   \n",
       "2              text     t2_bjlogeog             False                False   \n",
       "3              text     t2_7jljjuv5             False                False   \n",
       "4              text       t2_148nft             False                False   \n",
       "\n",
       "   ... updated_utc og_description og_title rte_mode  brand_safe banned_by  \\\n",
       "0  ...         NaN            NaN      NaN      NaN         NaN       NaN   \n",
       "1  ...         NaN            NaN      NaN      NaN         NaN       NaN   \n",
       "2  ...         NaN            NaN      NaN      NaN         NaN       NaN   \n",
       "3  ...         NaN            NaN      NaN      NaN         NaN       NaN   \n",
       "4  ...         NaN            NaN      NaN      NaN         NaN       NaN   \n",
       "\n",
       "  approved_at_utc author_created_utc banned_at_utc suggested_sort  \n",
       "0             NaN                NaN           NaN            NaN  \n",
       "1             NaN                NaN           NaN            NaN  \n",
       "2             NaN                NaN           NaN            NaN  \n",
       "3             NaN                NaN           NaN            NaN  \n",
       "4             NaN                NaN           NaN            NaN  \n",
       "\n",
       "[5 rows x 96 columns]"
      ]
     },
     "execution_count": 5,
     "metadata": {},
     "output_type": "execute_result"
    }
   ],
   "source": [
    "#Look at data\n",
    "raw_couch_5k.head()"
   ]
  },
  {
   "cell_type": "code",
   "execution_count": 25,
   "id": "f68dd443-2fdd-4f79-8144-d2d2304e8080",
   "metadata": {},
   "outputs": [
    {
     "name": "stdout",
     "output_type": "stream",
     "text": [
      "(13454, 92)\n",
      "(15037, 96)\n"
     ]
    }
   ],
   "source": [
    "#View shape of data\n",
    "print(raw_advanced_running.shape)\n",
    "print(raw_couch_5k.shape)"
   ]
  },
  {
   "cell_type": "markdown",
   "id": "77490b3f-3590-4205-b435-566626e19ada",
   "metadata": {},
   "source": [
    "#### Removing all posts that contained 'removed'"
   ]
  },
  {
   "cell_type": "code",
   "execution_count": 7,
   "id": "a4bdaa2a-f299-486d-abf0-31c9d78f0f47",
   "metadata": {},
   "outputs": [],
   "source": [
    "#Checking and removing [removed] and re-assining to df without removed\n",
    "raw_advanced_running=raw_advanced_running.loc[raw_advanced_running['selftext']!='[removed]']\n",
    "raw_couch_5k=raw_couch_5k.loc[raw_couch_5k['selftext']!='[removed]']"
   ]
  },
  {
   "cell_type": "markdown",
   "id": "18b27521-55a7-429c-8a86-0f131a176e31",
   "metadata": {},
   "source": [
    "#### Creating new DataFrames with wanted columns\n",
    "1. Author, Title and Post\n",
    "2. Making Title and Post into one all-text column "
   ]
  },
  {
   "cell_type": "code",
   "execution_count": 8,
   "id": "732bc449-810c-43d6-8d1a-4980dc34eeb7",
   "metadata": {},
   "outputs": [],
   "source": [
    "#Making new dataframes\n",
    "raw_advanced=pd.DataFrame()\n",
    "raw_couch5k=pd.DataFrame()"
   ]
  },
  {
   "cell_type": "code",
   "execution_count": 9,
   "id": "93222cbe-c01c-419a-bfd3-d619914422de",
   "metadata": {},
   "outputs": [],
   "source": [
    "#Creating dataframes with wanted information \n",
    "raw_advanced['author']=raw_advanced_running['author']\n",
    "raw_advanced['post']=raw_advanced_running['title'] + ' ' + raw_advanced_running['selftext']\n",
    "raw_couch5k['author']=raw_couch_5k['author']\n",
    "raw_couch5k['post']=raw_couch_5k['title'] + ' ' + raw_couch_5k['selftext']"
   ]
  },
  {
   "cell_type": "code",
   "execution_count": 10,
   "id": "0d9ede5a-2549-443a-9624-67c0066fa1ed",
   "metadata": {},
   "outputs": [
    {
     "data": {
      "text/html": [
       "<div>\n",
       "<style scoped>\n",
       "    .dataframe tbody tr th:only-of-type {\n",
       "        vertical-align: middle;\n",
       "    }\n",
       "\n",
       "    .dataframe tbody tr th {\n",
       "        vertical-align: top;\n",
       "    }\n",
       "\n",
       "    .dataframe thead th {\n",
       "        text-align: right;\n",
       "    }\n",
       "</style>\n",
       "<table border=\"1\" class=\"dataframe\">\n",
       "  <thead>\n",
       "    <tr style=\"text-align: right;\">\n",
       "      <th></th>\n",
       "      <th>author</th>\n",
       "      <th>post</th>\n",
       "    </tr>\n",
       "  </thead>\n",
       "  <tbody>\n",
       "    <tr>\n",
       "      <th>0</th>\n",
       "      <td>Brojadyn2006</td>\n",
       "      <td>Further college running Hello, so I was wonder...</td>\n",
       "    </tr>\n",
       "    <tr>\n",
       "      <th>1</th>\n",
       "      <td>Tea-reps</td>\n",
       "      <td>Race Report: Big breakthrough at the Boston Ha...</td>\n",
       "    </tr>\n",
       "    <tr>\n",
       "      <th>2</th>\n",
       "      <td>Caffeinated262</td>\n",
       "      <td>Garden of Life Palm Beaches Marathon I have th...</td>\n",
       "    </tr>\n",
       "    <tr>\n",
       "      <th>3</th>\n",
       "      <td>blueheeler9</td>\n",
       "      <td>2022 BAA Half Marathon | Wet &amp;amp; Glorious 1:...</td>\n",
       "    </tr>\n",
       "    <tr>\n",
       "      <th>4</th>\n",
       "      <td>zzach_519</td>\n",
       "      <td>2022 Berkeley Half race report ### Race Inform...</td>\n",
       "    </tr>\n",
       "  </tbody>\n",
       "</table>\n",
       "</div>"
      ],
      "text/plain": [
       "           author                                               post\n",
       "0    Brojadyn2006  Further college running Hello, so I was wonder...\n",
       "1        Tea-reps  Race Report: Big breakthrough at the Boston Ha...\n",
       "2  Caffeinated262  Garden of Life Palm Beaches Marathon I have th...\n",
       "3     blueheeler9  2022 BAA Half Marathon | Wet &amp; Glorious 1:...\n",
       "4       zzach_519  2022 Berkeley Half race report ### Race Inform..."
      ]
     },
     "execution_count": 10,
     "metadata": {},
     "output_type": "execute_result"
    }
   ],
   "source": [
    "#Checking \n",
    "raw_advanced.head()"
   ]
  },
  {
   "cell_type": "code",
   "execution_count": 11,
   "id": "4ad3fb6d-379d-427f-a57a-0712105f166b",
   "metadata": {},
   "outputs": [
    {
     "data": {
      "text/html": [
       "<div>\n",
       "<style scoped>\n",
       "    .dataframe tbody tr th:only-of-type {\n",
       "        vertical-align: middle;\n",
       "    }\n",
       "\n",
       "    .dataframe tbody tr th {\n",
       "        vertical-align: top;\n",
       "    }\n",
       "\n",
       "    .dataframe thead th {\n",
       "        text-align: right;\n",
       "    }\n",
       "</style>\n",
       "<table border=\"1\" class=\"dataframe\">\n",
       "  <thead>\n",
       "    <tr style=\"text-align: right;\">\n",
       "      <th></th>\n",
       "      <th>author</th>\n",
       "      <th>post</th>\n",
       "    </tr>\n",
       "  </thead>\n",
       "  <tbody>\n",
       "    <tr>\n",
       "      <th>0</th>\n",
       "      <td>Maleficent-Sock-6800</td>\n",
       "      <td>The ones going from outside to a treadmill, Wa...</td>\n",
       "    </tr>\n",
       "    <tr>\n",
       "      <th>1</th>\n",
       "      <td>BbNowSayMyNamebB</td>\n",
       "      <td>NaN</td>\n",
       "    </tr>\n",
       "    <tr>\n",
       "      <th>2</th>\n",
       "      <td>FeeValuable22</td>\n",
       "      <td>NaN</td>\n",
       "    </tr>\n",
       "    <tr>\n",
       "      <th>3</th>\n",
       "      <td>Resident_Ad_4004</td>\n",
       "      <td>Advice Needed So I started C25K 6 weeks early ...</td>\n",
       "    </tr>\n",
       "    <tr>\n",
       "      <th>4</th>\n",
       "      <td>C25k_bot</td>\n",
       "      <td>[WEEKLY THREAD] RANT WEDNESDAYS Things that ma...</td>\n",
       "    </tr>\n",
       "  </tbody>\n",
       "</table>\n",
       "</div>"
      ],
      "text/plain": [
       "                 author                                               post\n",
       "0  Maleficent-Sock-6800  The ones going from outside to a treadmill, Wa...\n",
       "1      BbNowSayMyNamebB                                                NaN\n",
       "2         FeeValuable22                                                NaN\n",
       "3      Resident_Ad_4004  Advice Needed So I started C25K 6 weeks early ...\n",
       "4              C25k_bot  [WEEKLY THREAD] RANT WEDNESDAYS Things that ma..."
      ]
     },
     "execution_count": 11,
     "metadata": {},
     "output_type": "execute_result"
    }
   ],
   "source": [
    "#Checking\n",
    "raw_couch5k.head()"
   ]
  },
  {
   "cell_type": "markdown",
   "id": "990d3e92-5d33-477e-9f1d-e3822d848920",
   "metadata": {},
   "source": [
    "#### Checking for Null Values and Data Types"
   ]
  },
  {
   "cell_type": "code",
   "execution_count": 12,
   "id": "3ee87d8d-33a5-4642-bcd9-3fdde37b05f7",
   "metadata": {},
   "outputs": [
    {
     "name": "stdout",
     "output_type": "stream",
     "text": [
      "<class 'pandas.core.frame.DataFrame'>\n",
      "Int64Index: 13454 entries, 0 to 15087\n",
      "Data columns (total 2 columns):\n",
      " #   Column  Non-Null Count  Dtype \n",
      "---  ------  --------------  ----- \n",
      " 0   author  13454 non-null  object\n",
      " 1   post    11710 non-null  object\n",
      "dtypes: object(2)\n",
      "memory usage: 315.3+ KB\n"
     ]
    }
   ],
   "source": [
    "#Checking for nulls and datatypes \n",
    "raw_advanced.info()"
   ]
  },
  {
   "cell_type": "code",
   "execution_count": 13,
   "id": "8edb690f-b224-40f6-9fd7-41ac7d803145",
   "metadata": {},
   "outputs": [
    {
     "name": "stdout",
     "output_type": "stream",
     "text": [
      "<class 'pandas.core.frame.DataFrame'>\n",
      "Int64Index: 15037 entries, 0 to 15078\n",
      "Data columns (total 2 columns):\n",
      " #   Column  Non-Null Count  Dtype \n",
      "---  ------  --------------  ----- \n",
      " 0   author  15037 non-null  object\n",
      " 1   post    9804 non-null   object\n",
      "dtypes: object(2)\n",
      "memory usage: 352.4+ KB\n"
     ]
    }
   ],
   "source": [
    "#Checking for nulls and datatypes \n",
    "raw_couch5k.info()"
   ]
  },
  {
   "cell_type": "markdown",
   "id": "dc443273-54a3-47e9-a9e1-526dbe8c480c",
   "metadata": {},
   "source": [
    "#### Dropping Missing Values "
   ]
  },
  {
   "cell_type": "code",
   "execution_count": 14,
   "id": "aefc3cc8-85b3-46e5-a5f0-21e12b1822aa",
   "metadata": {},
   "outputs": [],
   "source": [
    "#Removing rows with missing values \n",
    "raw_advanced.dropna(inplace=True)\n",
    "raw_couch5k.dropna(inplace=True)"
   ]
  },
  {
   "cell_type": "code",
   "execution_count": 15,
   "id": "b5a79403-2672-4406-8be6-44e5764ada99",
   "metadata": {},
   "outputs": [
    {
     "name": "stdout",
     "output_type": "stream",
     "text": [
      "<class 'pandas.core.frame.DataFrame'>\n",
      "Int64Index: 11710 entries, 0 to 15087\n",
      "Data columns (total 2 columns):\n",
      " #   Column  Non-Null Count  Dtype \n",
      "---  ------  --------------  ----- \n",
      " 0   author  11710 non-null  object\n",
      " 1   post    11710 non-null  object\n",
      "dtypes: object(2)\n",
      "memory usage: 274.5+ KB\n"
     ]
    }
   ],
   "source": [
    "#Checking\n",
    "raw_advanced.info()"
   ]
  },
  {
   "cell_type": "code",
   "execution_count": 16,
   "id": "80aa2f8c-152c-4d13-9ff8-b453fb841dcb",
   "metadata": {},
   "outputs": [
    {
     "name": "stdout",
     "output_type": "stream",
     "text": [
      "<class 'pandas.core.frame.DataFrame'>\n",
      "Int64Index: 9804 entries, 0 to 15078\n",
      "Data columns (total 2 columns):\n",
      " #   Column  Non-Null Count  Dtype \n",
      "---  ------  --------------  ----- \n",
      " 0   author  9804 non-null   object\n",
      " 1   post    9804 non-null   object\n",
      "dtypes: object(2)\n",
      "memory usage: 229.8+ KB\n"
     ]
    }
   ],
   "source": [
    "#Checking\n",
    "raw_couch5k.info()"
   ]
  },
  {
   "cell_type": "markdown",
   "id": "2ec14573-978f-42c8-82d0-402fba4837b0",
   "metadata": {},
   "source": [
    "#### Dropping duplicate posts in each dataset. Indicating to keep the first post of every duplicate. "
   ]
  },
  {
   "cell_type": "code",
   "execution_count": 17,
   "id": "4afb4e2f-ed00-4ec7-868c-3ce993a29797",
   "metadata": {},
   "outputs": [],
   "source": [
    "#Dropping duplicates \n",
    "raw_advanced.drop_duplicates(subset='post', keep='first', inplace=True)\n",
    "\n",
    "raw_couch5k.drop_duplicates(subset='post', keep='first', inplace=True)"
   ]
  },
  {
   "cell_type": "code",
   "execution_count": 18,
   "id": "e9896c3a-90de-4f47-afed-4b6f9874cdd9",
   "metadata": {},
   "outputs": [
    {
     "name": "stdout",
     "output_type": "stream",
     "text": [
      "(9238, 2)\n",
      "(5155, 2)\n"
     ]
    }
   ],
   "source": [
    "#Checking shape after dropping duplicates\n",
    "print(raw_advanced.shape)\n",
    "print(raw_couch5k.shape)"
   ]
  },
  {
   "cell_type": "markdown",
   "id": "8fdac860-e6cc-4822-9d40-55b543aeb0b4",
   "metadata": {},
   "source": [
    "#### Dropping moderator posts from each dataset\n",
    "- Moderator's were identified in each subreddit and rows containing moderator posts were dropped from both datasets"
   ]
  },
  {
   "cell_type": "code",
   "execution_count": 19,
   "id": "07d1eb37-e125-4b93-b8c7-04023d412c91",
   "metadata": {},
   "outputs": [],
   "source": [
    "#Dropping mods by selecting rows with mods in both df\n",
    "raw_advanced.drop(raw_advanced.index[(raw_advanced['author'] == 'brwalkernc') | \n",
    "                             (raw_advanced['author'] == 'CatzerzMcGee') | \n",
    "                            (raw_advanced['author'] == 'aewillia') | \n",
    "                             (raw_advanced['author'] == 'AutoModerator') |\n",
    "                            (raw_advanced['author'] == 'ruinawish')], inplace=True)\n",
    "\n",
    "raw_couch5k.drop(raw_couch5k.index[(raw_couch5k['author'] == 'AshKals') | \n",
    "                           (raw_couch5k['author'] == 'cainunable') | \n",
    "                            (raw_couch5k['author'] == 'C25k_bot')], inplace=True)"
   ]
  },
  {
   "cell_type": "markdown",
   "id": "bac384c3-d129-426b-aa47-0630e39fd3fa",
   "metadata": {},
   "source": [
    "#### Checking final shape for each dataframe\n",
    "- Both subreddit's were within an appropriate amount for modeling. Extra care will be taken during modeling to deal with imbalanced data"
   ]
  },
  {
   "cell_type": "code",
   "execution_count": 20,
   "id": "00dae9d0-5efd-4d73-be9e-8ecd777c73a0",
   "metadata": {},
   "outputs": [
    {
     "name": "stdout",
     "output_type": "stream",
     "text": [
      "(8440, 2)\n",
      "(5132, 2)\n"
     ]
    }
   ],
   "source": [
    "#Checking final shape of both dfs\n",
    "print(raw_advanced.shape)\n",
    "print(raw_couch5k.shape)"
   ]
  },
  {
   "cell_type": "markdown",
   "id": "44bdf547-0bfd-4bcd-9def-8363cb34435d",
   "metadata": {},
   "source": [
    "#### Binary column created for target classification column "
   ]
  },
  {
   "cell_type": "code",
   "execution_count": 21,
   "id": "d044a241-09ff-4c4b-994e-69a0a8a2b64d",
   "metadata": {},
   "outputs": [],
   "source": [
    "#Creating 1 and 0 columns for each dataset used for classification \n",
    "raw_advanced['is_advanced']=1\n",
    "raw_couch5k['is_advanced']=0"
   ]
  },
  {
   "cell_type": "markdown",
   "id": "9c4116a5-60f4-4491-b8fc-3831b9c31638",
   "metadata": {},
   "source": [
    "#### Both datasets were then concatenated together into one dataset to be used for pre-processing"
   ]
  },
  {
   "cell_type": "code",
   "execution_count": 24,
   "id": "20333ca7-6900-4ce7-84eb-1d1f332eb680",
   "metadata": {},
   "outputs": [
    {
     "data": {
      "text/html": [
       "<div>\n",
       "<style scoped>\n",
       "    .dataframe tbody tr th:only-of-type {\n",
       "        vertical-align: middle;\n",
       "    }\n",
       "\n",
       "    .dataframe tbody tr th {\n",
       "        vertical-align: top;\n",
       "    }\n",
       "\n",
       "    .dataframe thead th {\n",
       "        text-align: right;\n",
       "    }\n",
       "</style>\n",
       "<table border=\"1\" class=\"dataframe\">\n",
       "  <thead>\n",
       "    <tr style=\"text-align: right;\">\n",
       "      <th></th>\n",
       "      <th>author</th>\n",
       "      <th>post</th>\n",
       "      <th>is_advanced</th>\n",
       "    </tr>\n",
       "  </thead>\n",
       "  <tbody>\n",
       "    <tr>\n",
       "      <th>10974</th>\n",
       "      <td>underblueskies</td>\n",
       "      <td>Oh yeah, this is where I used to walk (W7D1) :...</td>\n",
       "      <td>0</td>\n",
       "    </tr>\n",
       "    <tr>\n",
       "      <th>10975</th>\n",
       "      <td>AngryCanadian89</td>\n",
       "      <td>W2D1 Down After taking an almost 2 month hiatu...</td>\n",
       "      <td>0</td>\n",
       "    </tr>\n",
       "    <tr>\n",
       "      <th>10976</th>\n",
       "      <td>[deleted]</td>\n",
       "      <td>I want to run...but not with my phone! Hi ever...</td>\n",
       "      <td>0</td>\n",
       "    </tr>\n",
       "    <tr>\n",
       "      <th>10977</th>\n",
       "      <td>kilted79</td>\n",
       "      <td>Unscheduled.... Looks like my body wants to me...</td>\n",
       "      <td>0</td>\n",
       "    </tr>\n",
       "    <tr>\n",
       "      <th>10978</th>\n",
       "      <td>AlexOfCanada</td>\n",
       "      <td>How and when do you stretch? Right now I stret...</td>\n",
       "      <td>0</td>\n",
       "    </tr>\n",
       "  </tbody>\n",
       "</table>\n",
       "</div>"
      ],
      "text/plain": [
       "                author                                               post  \\\n",
       "10974   underblueskies  Oh yeah, this is where I used to walk (W7D1) :...   \n",
       "10975  AngryCanadian89  W2D1 Down After taking an almost 2 month hiatu...   \n",
       "10976        [deleted]  I want to run...but not with my phone! Hi ever...   \n",
       "10977         kilted79  Unscheduled.... Looks like my body wants to me...   \n",
       "10978     AlexOfCanada  How and when do you stretch? Right now I stret...   \n",
       "\n",
       "       is_advanced  \n",
       "10974            0  \n",
       "10975            0  \n",
       "10976            0  \n",
       "10977            0  \n",
       "10978            0  "
      ]
     },
     "execution_count": 24,
     "metadata": {},
     "output_type": "execute_result"
    }
   ],
   "source": [
    "#concat subreddits together \n",
    "clean_runners=pd.concat([raw_advanced, raw_couch5k], axis=0)\n",
    "clean_runners.tail()"
   ]
  },
  {
   "cell_type": "code",
   "execution_count": 23,
   "id": "7b9be8d1-8dd5-4b25-8aab-b5f50b4cd403",
   "metadata": {},
   "outputs": [],
   "source": [
    "#Saving cleaned dataset\n",
    "clean_runners.to_csv('clean_runners.csv', index=False)"
   ]
  },
  {
   "cell_type": "markdown",
   "id": "fb7174e7-a359-4d1f-8e8d-c136bc6b34ae",
   "metadata": {},
   "source": [
    "---\n",
    "#### Next Section: Part 3 - Pre-Processing"
   ]
  },
  {
   "cell_type": "code",
   "execution_count": null,
   "id": "6613be33-ccba-4fc2-ab02-069fae28ad37",
   "metadata": {},
   "outputs": [],
   "source": []
  }
 ],
 "metadata": {
  "kernelspec": {
   "display_name": "Python [conda env:dsi]",
   "language": "python",
   "name": "conda-env-dsi-py"
  },
  "language_info": {
   "codemirror_mode": {
    "name": "ipython",
    "version": 3
   },
   "file_extension": ".py",
   "mimetype": "text/x-python",
   "name": "python",
   "nbconvert_exporter": "python",
   "pygments_lexer": "ipython3",
   "version": "3.9.7"
  }
 },
 "nbformat": 4,
 "nbformat_minor": 5
}
