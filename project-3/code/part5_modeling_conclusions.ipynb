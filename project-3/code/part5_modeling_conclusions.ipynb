{
 "cells": [
  {
   "cell_type": "markdown",
   "id": "2b9bcbbe-ae5e-4c2f-a8b7-9fd80067b6b6",
   "metadata": {},
   "source": [
    "# Project 3: Advanced Running Retargeting using NLP\n",
    "\n",
    "---\n",
    "## Part 5: Modeling and Conclusions\n",
    "\n",
    "This first section includes modeling. Prior to modeling all numerical data was scaled using StandardScaler. A null model was observed using DummyClassifier. The null model accuracy score was 62.17%. This is the probabilty of predicting the majority class. The first model performed was a Random Forest Classifier using BayesSearchCV. Random Forest parameters were hypertuned to obtain an optimal model. The second model performed was a Balanced Random Forest Classifier. This model was chosen because the original data was imbalanced and this was thought to be one of the reasons for a moderate accuracy score of the first Random Forest Model. The third model performed was a PCA and Logistic Regression using BayesSearchCV. Hyperparameters were tuned to obtain an optimal model. The final model performed was a Logistic Regression accounting for imbalanced data using BayesSearchCV. Hyperparameters were tuned to obtain an optimal model. All models performed better than the null model. Models and results are seen below. "
   ]
  },
  {
   "cell_type": "code",
   "execution_count": 51,
   "id": "bcfb8e17-9424-437f-8e79-a7e20dbeac59",
   "metadata": {},
   "outputs": [],
   "source": [
    "import pandas as pd\n",
    "import numpy as np\n",
    "import seaborn as sns\n",
    "import matplotlib.pyplot as plt\n",
    "\n",
    "from sklearn.dummy import DummyClassifier \n",
    "from sklearn.ensemble import RandomForestClassifier\n",
    "from sklearn.linear_model import LogisticRegression\n",
    "from imblearn.ensemble import BalancedBaggingClassifier, BalancedRandomForestClassifier\n",
    "from sklearn.decomposition import PCA\n",
    "from sklearn.preprocessing import StandardScaler\n",
    "from sklearn.pipeline import Pipeline \n",
    "from skopt import BayesSearchCV\n",
    "from skopt.space import Real, Categorical, Integer\n",
    "from sklearn.metrics import confusion_matrix, plot_confusion_matrix, precision_score, recall_score, balanced_accuracy_score"
   ]
  },
  {
   "cell_type": "code",
   "execution_count": 2,
   "id": "f1e0206b-d557-47f2-aed2-732b0ba3a545",
   "metadata": {},
   "outputs": [],
   "source": [
    "#reading in X_train, X_test, y_train and y_test\n",
    "X_train=pd.read_csv('../data/X_train_vec.csv')\n",
    "X_test=pd.read_csv('../data/X_test_vec.csv')\n",
    "y_train=pd.read_csv('../data/y_train.csv')\n",
    "y_test=pd.read_csv('../data/y_test.csv')"
   ]
  },
  {
   "cell_type": "markdown",
   "id": "998654db-e2a6-4c55-893d-c61ca97a136d",
   "metadata": {},
   "source": [
    "#### Null Model with Dummy Classifier "
   ]
  },
  {
   "cell_type": "code",
   "execution_count": 3,
   "id": "3b8976b8-9e2d-446f-8a25-5e653acf0fa2",
   "metadata": {},
   "outputs": [
    {
     "data": {
      "text/plain": [
       "0.6217311233885819"
      ]
     },
     "execution_count": 3,
     "metadata": {},
     "output_type": "execute_result"
    }
   ],
   "source": [
    "#Null Model \n",
    "dc=DummyClassifier()\n",
    "dc.fit(X_train, y_train)\n",
    "dc.score(X_test, y_test) #returns percent of advanced (1)"
   ]
  },
  {
   "cell_type": "markdown",
   "id": "d9cf9692-1c46-4a61-9649-130890ce8821",
   "metadata": {},
   "source": [
    "#### Scaling data with StandardScaler "
   ]
  },
  {
   "cell_type": "code",
   "execution_count": 4,
   "id": "a0ecdf66-fab1-46db-abc2-b09120e5a2ef",
   "metadata": {},
   "outputs": [],
   "source": [
    "#Standard Scaler \n",
    "ss=StandardScaler()\n",
    "Z_train=ss.fit_transform(X_train)\n",
    "Z_test=ss.transform(X_test)"
   ]
  },
  {
   "cell_type": "markdown",
   "id": "720c730f-f0c2-4fef-a057-71683633f9e5",
   "metadata": {},
   "source": [
    "#### Model 1: Random Forest Classifier using BayesSearchCV"
   ]
  },
  {
   "cell_type": "code",
   "execution_count": 5,
   "id": "42c3e782-68b5-444b-aa3d-e7a93ff57205",
   "metadata": {},
   "outputs": [],
   "source": [
    "#Instantiating Random Forest\n",
    "rf=RandomForestClassifier(class_weight='balanced')\n",
    "\n",
    "#rf params \n",
    "rf_params={\n",
    "    'n_estimators': Integer(100,300),\n",
    "    'max_features': ['sqrt', 'log2', None],\n",
    "    'max_depth': Integer(1,50), \n",
    "    'min_samples_leaf': Real(0.1, 0.5)\n",
    "}\n",
    "\n",
    "#Instantiate BayesSearchCV\n",
    "bs_rf=BayesSearchCV(\n",
    "    estimator=rf,\n",
    "    search_spaces=rf_params,\n",
    "    n_iter=50, \n",
    "    verbose=1,\n",
    "    cv=5,\n",
    "    n_jobs=-1\n",
    ")"
   ]
  },
  {
   "cell_type": "code",
   "execution_count": 6,
   "id": "ba1094c1-dd6f-4e08-bbed-c01ac397d765",
   "metadata": {},
   "outputs": [
    {
     "name": "stdout",
     "output_type": "stream",
     "text": [
      "Fitting 5 folds for each of 1 candidates, totalling 5 fits\n",
      "Fitting 5 folds for each of 1 candidates, totalling 5 fits\n",
      "Fitting 5 folds for each of 1 candidates, totalling 5 fits\n",
      "Fitting 5 folds for each of 1 candidates, totalling 5 fits\n",
      "Fitting 5 folds for each of 1 candidates, totalling 5 fits\n",
      "Fitting 5 folds for each of 1 candidates, totalling 5 fits\n",
      "Fitting 5 folds for each of 1 candidates, totalling 5 fits\n",
      "Fitting 5 folds for each of 1 candidates, totalling 5 fits\n",
      "Fitting 5 folds for each of 1 candidates, totalling 5 fits\n",
      "Fitting 5 folds for each of 1 candidates, totalling 5 fits\n",
      "Fitting 5 folds for each of 1 candidates, totalling 5 fits\n",
      "Fitting 5 folds for each of 1 candidates, totalling 5 fits\n",
      "Fitting 5 folds for each of 1 candidates, totalling 5 fits\n",
      "Fitting 5 folds for each of 1 candidates, totalling 5 fits\n",
      "Fitting 5 folds for each of 1 candidates, totalling 5 fits\n",
      "Fitting 5 folds for each of 1 candidates, totalling 5 fits\n",
      "Fitting 5 folds for each of 1 candidates, totalling 5 fits\n",
      "Fitting 5 folds for each of 1 candidates, totalling 5 fits\n",
      "Fitting 5 folds for each of 1 candidates, totalling 5 fits\n",
      "Fitting 5 folds for each of 1 candidates, totalling 5 fits\n",
      "Fitting 5 folds for each of 1 candidates, totalling 5 fits\n",
      "Fitting 5 folds for each of 1 candidates, totalling 5 fits\n",
      "Fitting 5 folds for each of 1 candidates, totalling 5 fits\n",
      "Fitting 5 folds for each of 1 candidates, totalling 5 fits\n",
      "Fitting 5 folds for each of 1 candidates, totalling 5 fits\n",
      "Fitting 5 folds for each of 1 candidates, totalling 5 fits\n",
      "Fitting 5 folds for each of 1 candidates, totalling 5 fits\n",
      "Fitting 5 folds for each of 1 candidates, totalling 5 fits\n",
      "Fitting 5 folds for each of 1 candidates, totalling 5 fits\n",
      "Fitting 5 folds for each of 1 candidates, totalling 5 fits\n",
      "Fitting 5 folds for each of 1 candidates, totalling 5 fits\n",
      "Fitting 5 folds for each of 1 candidates, totalling 5 fits\n",
      "Fitting 5 folds for each of 1 candidates, totalling 5 fits\n",
      "Fitting 5 folds for each of 1 candidates, totalling 5 fits\n",
      "Fitting 5 folds for each of 1 candidates, totalling 5 fits\n",
      "Fitting 5 folds for each of 1 candidates, totalling 5 fits\n",
      "Fitting 5 folds for each of 1 candidates, totalling 5 fits\n",
      "Fitting 5 folds for each of 1 candidates, totalling 5 fits\n",
      "Fitting 5 folds for each of 1 candidates, totalling 5 fits\n",
      "Fitting 5 folds for each of 1 candidates, totalling 5 fits\n",
      "Fitting 5 folds for each of 1 candidates, totalling 5 fits\n",
      "Fitting 5 folds for each of 1 candidates, totalling 5 fits\n",
      "Fitting 5 folds for each of 1 candidates, totalling 5 fits\n",
      "Fitting 5 folds for each of 1 candidates, totalling 5 fits\n",
      "Fitting 5 folds for each of 1 candidates, totalling 5 fits\n",
      "Fitting 5 folds for each of 1 candidates, totalling 5 fits\n",
      "Fitting 5 folds for each of 1 candidates, totalling 5 fits\n",
      "Fitting 5 folds for each of 1 candidates, totalling 5 fits\n",
      "Fitting 5 folds for each of 1 candidates, totalling 5 fits\n",
      "Fitting 5 folds for each of 1 candidates, totalling 5 fits\n"
     ]
    },
    {
     "data": {
      "text/html": [
       "<style>#sk-container-id-1 {color: black;background-color: white;}#sk-container-id-1 pre{padding: 0;}#sk-container-id-1 div.sk-toggleable {background-color: white;}#sk-container-id-1 label.sk-toggleable__label {cursor: pointer;display: block;width: 100%;margin-bottom: 0;padding: 0.3em;box-sizing: border-box;text-align: center;}#sk-container-id-1 label.sk-toggleable__label-arrow:before {content: \"▸\";float: left;margin-right: 0.25em;color: #696969;}#sk-container-id-1 label.sk-toggleable__label-arrow:hover:before {color: black;}#sk-container-id-1 div.sk-estimator:hover label.sk-toggleable__label-arrow:before {color: black;}#sk-container-id-1 div.sk-toggleable__content {max-height: 0;max-width: 0;overflow: hidden;text-align: left;background-color: #f0f8ff;}#sk-container-id-1 div.sk-toggleable__content pre {margin: 0.2em;color: black;border-radius: 0.25em;background-color: #f0f8ff;}#sk-container-id-1 input.sk-toggleable__control:checked~div.sk-toggleable__content {max-height: 200px;max-width: 100%;overflow: auto;}#sk-container-id-1 input.sk-toggleable__control:checked~label.sk-toggleable__label-arrow:before {content: \"▾\";}#sk-container-id-1 div.sk-estimator input.sk-toggleable__control:checked~label.sk-toggleable__label {background-color: #d4ebff;}#sk-container-id-1 div.sk-label input.sk-toggleable__control:checked~label.sk-toggleable__label {background-color: #d4ebff;}#sk-container-id-1 input.sk-hidden--visually {border: 0;clip: rect(1px 1px 1px 1px);clip: rect(1px, 1px, 1px, 1px);height: 1px;margin: -1px;overflow: hidden;padding: 0;position: absolute;width: 1px;}#sk-container-id-1 div.sk-estimator {font-family: monospace;background-color: #f0f8ff;border: 1px dotted black;border-radius: 0.25em;box-sizing: border-box;margin-bottom: 0.5em;}#sk-container-id-1 div.sk-estimator:hover {background-color: #d4ebff;}#sk-container-id-1 div.sk-parallel-item::after {content: \"\";width: 100%;border-bottom: 1px solid gray;flex-grow: 1;}#sk-container-id-1 div.sk-label:hover label.sk-toggleable__label {background-color: #d4ebff;}#sk-container-id-1 div.sk-serial::before {content: \"\";position: absolute;border-left: 1px solid gray;box-sizing: border-box;top: 0;bottom: 0;left: 50%;z-index: 0;}#sk-container-id-1 div.sk-serial {display: flex;flex-direction: column;align-items: center;background-color: white;padding-right: 0.2em;padding-left: 0.2em;position: relative;}#sk-container-id-1 div.sk-item {position: relative;z-index: 1;}#sk-container-id-1 div.sk-parallel {display: flex;align-items: stretch;justify-content: center;background-color: white;position: relative;}#sk-container-id-1 div.sk-item::before, #sk-container-id-1 div.sk-parallel-item::before {content: \"\";position: absolute;border-left: 1px solid gray;box-sizing: border-box;top: 0;bottom: 0;left: 50%;z-index: -1;}#sk-container-id-1 div.sk-parallel-item {display: flex;flex-direction: column;z-index: 1;position: relative;background-color: white;}#sk-container-id-1 div.sk-parallel-item:first-child::after {align-self: flex-end;width: 50%;}#sk-container-id-1 div.sk-parallel-item:last-child::after {align-self: flex-start;width: 50%;}#sk-container-id-1 div.sk-parallel-item:only-child::after {width: 0;}#sk-container-id-1 div.sk-dashed-wrapped {border: 1px dashed gray;margin: 0 0.4em 0.5em 0.4em;box-sizing: border-box;padding-bottom: 0.4em;background-color: white;}#sk-container-id-1 div.sk-label label {font-family: monospace;font-weight: bold;display: inline-block;line-height: 1.2em;}#sk-container-id-1 div.sk-label-container {text-align: center;}#sk-container-id-1 div.sk-container {/* jupyter's `normalize.less` sets `[hidden] { display: none; }` but bootstrap.min.css set `[hidden] { display: none !important; }` so we also need the `!important` here to be able to override the default hidden behavior on the sphinx rendered scikit-learn.org. See: https://github.com/scikit-learn/scikit-learn/issues/21755 */display: inline-block !important;position: relative;}#sk-container-id-1 div.sk-text-repr-fallback {display: none;}</style><div id=\"sk-container-id-1\" class=\"sk-top-container\"><div class=\"sk-text-repr-fallback\"><pre>BayesSearchCV(cv=5, estimator=RandomForestClassifier(class_weight=&#x27;balanced&#x27;),\n",
       "              n_jobs=-1,\n",
       "              search_spaces={&#x27;max_depth&#x27;: Integer(low=1, high=50, prior=&#x27;uniform&#x27;, transform=&#x27;normalize&#x27;),\n",
       "                             &#x27;max_features&#x27;: [&#x27;sqrt&#x27;, &#x27;log2&#x27;, None],\n",
       "                             &#x27;min_samples_leaf&#x27;: Real(low=0.1, high=0.5, prior=&#x27;uniform&#x27;, transform=&#x27;normalize&#x27;),\n",
       "                             &#x27;n_estimators&#x27;: Integer(low=100, high=300, prior=&#x27;uniform&#x27;, transform=&#x27;normalize&#x27;)},\n",
       "              verbose=1)</pre><b>In a Jupyter environment, please rerun this cell to show the HTML representation or trust the notebook. <br />On GitHub, the HTML representation is unable to render, please try loading this page with nbviewer.org.</b></div><div class=\"sk-container\" hidden><div class=\"sk-item sk-dashed-wrapped\"><div class=\"sk-label-container\"><div class=\"sk-label sk-toggleable\"><input class=\"sk-toggleable__control sk-hidden--visually\" id=\"sk-estimator-id-1\" type=\"checkbox\" ><label for=\"sk-estimator-id-1\" class=\"sk-toggleable__label sk-toggleable__label-arrow\">BayesSearchCV</label><div class=\"sk-toggleable__content\"><pre>BayesSearchCV(cv=5, estimator=RandomForestClassifier(class_weight=&#x27;balanced&#x27;),\n",
       "              n_jobs=-1,\n",
       "              search_spaces={&#x27;max_depth&#x27;: Integer(low=1, high=50, prior=&#x27;uniform&#x27;, transform=&#x27;normalize&#x27;),\n",
       "                             &#x27;max_features&#x27;: [&#x27;sqrt&#x27;, &#x27;log2&#x27;, None],\n",
       "                             &#x27;min_samples_leaf&#x27;: Real(low=0.1, high=0.5, prior=&#x27;uniform&#x27;, transform=&#x27;normalize&#x27;),\n",
       "                             &#x27;n_estimators&#x27;: Integer(low=100, high=300, prior=&#x27;uniform&#x27;, transform=&#x27;normalize&#x27;)},\n",
       "              verbose=1)</pre></div></div></div><div class=\"sk-parallel\"><div class=\"sk-parallel-item\"><div class=\"sk-item\"><div class=\"sk-label-container\"><div class=\"sk-label sk-toggleable\"><input class=\"sk-toggleable__control sk-hidden--visually\" id=\"sk-estimator-id-2\" type=\"checkbox\" ><label for=\"sk-estimator-id-2\" class=\"sk-toggleable__label sk-toggleable__label-arrow\">estimator: RandomForestClassifier</label><div class=\"sk-toggleable__content\"><pre>RandomForestClassifier(class_weight=&#x27;balanced&#x27;)</pre></div></div></div><div class=\"sk-serial\"><div class=\"sk-item\"><div class=\"sk-estimator sk-toggleable\"><input class=\"sk-toggleable__control sk-hidden--visually\" id=\"sk-estimator-id-3\" type=\"checkbox\" ><label for=\"sk-estimator-id-3\" class=\"sk-toggleable__label sk-toggleable__label-arrow\">RandomForestClassifier</label><div class=\"sk-toggleable__content\"><pre>RandomForestClassifier(class_weight=&#x27;balanced&#x27;)</pre></div></div></div></div></div></div></div></div></div></div>"
      ],
      "text/plain": [
       "BayesSearchCV(cv=5, estimator=RandomForestClassifier(class_weight='balanced'),\n",
       "              n_jobs=-1,\n",
       "              search_spaces={'max_depth': Integer(low=1, high=50, prior='uniform', transform='normalize'),\n",
       "                             'max_features': ['sqrt', 'log2', None],\n",
       "                             'min_samples_leaf': Real(low=0.1, high=0.5, prior='uniform', transform='normalize'),\n",
       "                             'n_estimators': Integer(low=100, high=300, prior='uniform', transform='normalize')},\n",
       "              verbose=1)"
      ]
     },
     "execution_count": 6,
     "metadata": {},
     "output_type": "execute_result"
    }
   ],
   "source": [
    "import warnings\n",
    "warnings.filterwarnings('ignore')\n",
    "\n",
    "bs_rf.fit(Z_train, y_train.values.ravel())"
   ]
  },
  {
   "cell_type": "markdown",
   "id": "91b7051c-2de0-4c45-814b-354b8b22e52c",
   "metadata": {},
   "source": [
    "#### Model 1 results: "
   ]
  },
  {
   "cell_type": "code",
   "execution_count": 7,
   "id": "af4b7587-fca5-43a7-b088-6b4b2d87b1f0",
   "metadata": {},
   "outputs": [
    {
     "data": {
      "text/plain": [
       "OrderedDict([('max_depth', 50),\n",
       "             ('max_features', 'log2'),\n",
       "             ('min_samples_leaf', 0.1),\n",
       "             ('n_estimators', 300)])"
      ]
     },
     "execution_count": 7,
     "metadata": {},
     "output_type": "execute_result"
    }
   ],
   "source": [
    "bs_rf.best_params_"
   ]
  },
  {
   "cell_type": "code",
   "execution_count": 8,
   "id": "806c3b2d-32c0-4e18-b362-194962ab1e50",
   "metadata": {},
   "outputs": [
    {
     "name": "stdout",
     "output_type": "stream",
     "text": [
      "The accuracy training score is    0.7462466611402782\n",
      "The accuracy testing score is     0.7366482504604052\n",
      "The bac score is                  0.7639988093974536\n",
      "The precision is                  0.8964955175224124\n",
      "The recall is                     0.6516587677725119\n"
     ]
    }
   ],
   "source": [
    "#predicted values \n",
    "rf_preds = bs_rf.predict(Z_test)\n",
    "\n",
    "#best scores\n",
    "print(f'The accuracy training score is    {bs_rf.score(Z_train, y_train)}')\n",
    "print(f'The accuracy testing score is     {bs_rf.score(Z_test, y_test)}')\n",
    "print(f'The bac score is                  {balanced_accuracy_score(y_test, rf_preds)}')\n",
    "print(f'The precision is                  {precision_score(y_test, rf_preds)}')\n",
    "print(f'The recall is                     {recall_score(y_test, rf_preds)}')"
   ]
  },
  {
   "cell_type": "code",
   "execution_count": 140,
   "id": "44f88fb4-2517-4121-a164-fb385c1f92c1",
   "metadata": {},
   "outputs": [
    {
     "data": {
      "image/png": "[encoded data removed]",
      "text/plain": [
       "<Figure size 432x288 with 2 Axes>"
      ]
     },
     "metadata": {
      "needs_background": "light"
     },
     "output_type": "display_data"
    }
   ],
   "source": [
    "#random forest confusion matrix\n",
    "plot_confusion_matrix(bs_rf, Z_test, y_test, display_labels=['C25k', 'Advanced Running'])\n",
    "plt.title('Random Forest Classifier w/BayesSearchCV');"
   ]
  },
  {
   "cell_type": "code",
   "execution_count": 81,
   "id": "3fb56404-2156-458e-a7fa-53dd83f8b641",
   "metadata": {},
   "outputs": [
    {
     "data": {
      "text/plain": [
       "array([6.83176301e-02, 3.78808441e-02, 2.95035259e-02, 1.47298743e-02,\n",
       "       5.61349179e-02, 2.04029884e-02, 2.61533318e-02, 0.00000000e+00,\n",
       "       0.00000000e+00, 0.00000000e+00, 0.00000000e+00, 1.05057896e-02,\n",
       "       0.00000000e+00, 8.75183207e-03, 0.00000000e+00, 0.00000000e+00,\n",
       "       9.26739820e-04, 0.00000000e+00, 0.00000000e+00, 0.00000000e+00,\n",
       "       0.00000000e+00, 0.00000000e+00, 0.00000000e+00, 0.00000000e+00,\n",
       "       0.00000000e+00, 0.00000000e+00, 0.00000000e+00, 7.50685422e-04,\n",
       "       0.00000000e+00, 0.00000000e+00, 2.31499274e-02, 0.00000000e+00,\n",
       "       0.00000000e+00, 0.00000000e+00, 4.56016941e-05, 7.75937226e-03,\n",
       "       6.68010229e-03, 0.00000000e+00, 0.00000000e+00, 0.00000000e+00,\n",
       "       7.59293189e-03, 0.00000000e+00, 0.00000000e+00, 4.54818587e-03,\n",
       "       1.80233695e-02, 1.94946127e-03, 0.00000000e+00, 0.00000000e+00,\n",
       "       2.38633491e-02, 0.00000000e+00, 0.00000000e+00, 4.09649956e-04,\n",
       "       0.00000000e+00, 0.00000000e+00, 0.00000000e+00, 0.00000000e+00,\n",
       "       0.00000000e+00, 2.54509091e-02, 3.36671410e-03, 0.00000000e+00,\n",
       "       8.55979069e-03, 0.00000000e+00, 0.00000000e+00, 2.70225052e-02,\n",
       "       0.00000000e+00, 1.08553394e-02, 0.00000000e+00, 4.98078932e-04,\n",
       "       6.15206700e-02, 0.00000000e+00, 5.90098747e-02, 0.00000000e+00,\n",
       "       0.00000000e+00, 3.49906600e-02, 4.39995323e-03, 8.86761061e-04,\n",
       "       0.00000000e+00, 2.08325227e-02, 0.00000000e+00, 0.00000000e+00,\n",
       "       0.00000000e+00, 5.01890831e-02, 0.00000000e+00, 0.00000000e+00,\n",
       "       0.00000000e+00, 0.00000000e+00, 0.00000000e+00, 0.00000000e+00,\n",
       "       5.43745058e-02, 1.57405669e-04, 0.00000000e+00, 0.00000000e+00,\n",
       "       1.26115178e-02, 0.00000000e+00, 0.00000000e+00, 0.00000000e+00,\n",
       "       0.00000000e+00, 0.00000000e+00, 3.35509781e-02, 0.00000000e+00,\n",
       "       0.00000000e+00, 0.00000000e+00, 0.00000000e+00, 0.00000000e+00,\n",
       "       1.69446693e-03, 5.86177985e-03, 2.02453642e-02, 0.00000000e+00,\n",
       "       5.42390310e-02, 7.68206842e-02, 9.48746167e-04, 8.32741217e-03,\n",
       "       2.93149907e-03, 0.00000000e+00, 6.47959364e-04, 0.00000000e+00,\n",
       "       1.58939262e-02, 2.20811857e-03, 0.00000000e+00, 0.00000000e+00,\n",
       "       3.38236321e-02])"
      ]
     },
     "execution_count": 81,
     "metadata": {},
     "output_type": "execute_result"
    }
   ],
   "source": [
    "#Looking at feature importances \n",
    "bs_rf.best_estimator_.feature_importances_"
   ]
  },
  {
   "cell_type": "markdown",
   "id": "496623ed-744f-4c5f-bbed-95d21563325d",
   "metadata": {},
   "source": [
    "---\n",
    "\n",
    "#### Model 2: Balanced Random Forest Classifier with BayesSearchCV"
   ]
  },
  {
   "cell_type": "code",
   "execution_count": 11,
   "id": "cf1c09fd-9303-438f-a47e-ad8daf2b3559",
   "metadata": {},
   "outputs": [],
   "source": [
    "#Instantiating balanced Random Forest\n",
    "brf=BalancedRandomForestClassifier()\n",
    "\n",
    "#rf params \n",
    "brf_params={\n",
    "    'n_estimators': Integer(100,500),\n",
    "    'max_features': ['sqrt', 'log2', None],\n",
    "    'max_depth': Integer(1,100), \n",
    "    'min_samples_leaf': Real(0.1, 0.5)\n",
    "}\n",
    "\n",
    "#Instantiate BayesSearchCV\n",
    "bs_brf=BayesSearchCV(\n",
    "    estimator=rf,\n",
    "    search_spaces=rf_params,\n",
    "    n_iter=50, \n",
    "    verbose=1,\n",
    "    cv=5,\n",
    "    n_jobs=-1\n",
    ")"
   ]
  },
  {
   "cell_type": "code",
   "execution_count": 19,
   "id": "901106f1-6794-448e-9d14-b5e9e582512d",
   "metadata": {},
   "outputs": [
    {
     "name": "stdout",
     "output_type": "stream",
     "text": [
      "Fitting 5 folds for each of 1 candidates, totalling 5 fits\n",
      "Fitting 5 folds for each of 1 candidates, totalling 5 fits\n",
      "Fitting 5 folds for each of 1 candidates, totalling 5 fits\n",
      "Fitting 5 folds for each of 1 candidates, totalling 5 fits\n",
      "Fitting 5 folds for each of 1 candidates, totalling 5 fits\n",
      "Fitting 5 folds for each of 1 candidates, totalling 5 fits\n",
      "Fitting 5 folds for each of 1 candidates, totalling 5 fits\n",
      "Fitting 5 folds for each of 1 candidates, totalling 5 fits\n",
      "Fitting 5 folds for each of 1 candidates, totalling 5 fits\n",
      "Fitting 5 folds for each of 1 candidates, totalling 5 fits\n",
      "Fitting 5 folds for each of 1 candidates, totalling 5 fits\n",
      "Fitting 5 folds for each of 1 candidates, totalling 5 fits\n",
      "Fitting 5 folds for each of 1 candidates, totalling 5 fits\n",
      "Fitting 5 folds for each of 1 candidates, totalling 5 fits\n",
      "Fitting 5 folds for each of 1 candidates, totalling 5 fits\n",
      "Fitting 5 folds for each of 1 candidates, totalling 5 fits\n",
      "Fitting 5 folds for each of 1 candidates, totalling 5 fits\n",
      "Fitting 5 folds for each of 1 candidates, totalling 5 fits\n",
      "Fitting 5 folds for each of 1 candidates, totalling 5 fits\n",
      "Fitting 5 folds for each of 1 candidates, totalling 5 fits\n",
      "Fitting 5 folds for each of 1 candidates, totalling 5 fits\n",
      "Fitting 5 folds for each of 1 candidates, totalling 5 fits\n",
      "Fitting 5 folds for each of 1 candidates, totalling 5 fits\n",
      "Fitting 5 folds for each of 1 candidates, totalling 5 fits\n",
      "Fitting 5 folds for each of 1 candidates, totalling 5 fits\n",
      "Fitting 5 folds for each of 1 candidates, totalling 5 fits\n",
      "Fitting 5 folds for each of 1 candidates, totalling 5 fits\n",
      "Fitting 5 folds for each of 1 candidates, totalling 5 fits\n",
      "Fitting 5 folds for each of 1 candidates, totalling 5 fits\n",
      "Fitting 5 folds for each of 1 candidates, totalling 5 fits\n",
      "Fitting 5 folds for each of 1 candidates, totalling 5 fits\n",
      "Fitting 5 folds for each of 1 candidates, totalling 5 fits\n",
      "Fitting 5 folds for each of 1 candidates, totalling 5 fits\n",
      "Fitting 5 folds for each of 1 candidates, totalling 5 fits\n",
      "Fitting 5 folds for each of 1 candidates, totalling 5 fits\n",
      "Fitting 5 folds for each of 1 candidates, totalling 5 fits\n",
      "Fitting 5 folds for each of 1 candidates, totalling 5 fits\n",
      "Fitting 5 folds for each of 1 candidates, totalling 5 fits\n",
      "Fitting 5 folds for each of 1 candidates, totalling 5 fits\n",
      "Fitting 5 folds for each of 1 candidates, totalling 5 fits\n",
      "Fitting 5 folds for each of 1 candidates, totalling 5 fits\n",
      "Fitting 5 folds for each of 1 candidates, totalling 5 fits\n",
      "Fitting 5 folds for each of 1 candidates, totalling 5 fits\n",
      "Fitting 5 folds for each of 1 candidates, totalling 5 fits\n",
      "Fitting 5 folds for each of 1 candidates, totalling 5 fits\n",
      "Fitting 5 folds for each of 1 candidates, totalling 5 fits\n",
      "Fitting 5 folds for each of 1 candidates, totalling 5 fits\n",
      "Fitting 5 folds for each of 1 candidates, totalling 5 fits\n",
      "Fitting 5 folds for each of 1 candidates, totalling 5 fits\n",
      "Fitting 5 folds for each of 1 candidates, totalling 5 fits\n"
     ]
    },
    {
     "data": {
      "text/html": [
       "<style>#sk-container-id-3 {color: black;background-color: white;}#sk-container-id-3 pre{padding: 0;}#sk-container-id-3 div.sk-toggleable {background-color: white;}#sk-container-id-3 label.sk-toggleable__label {cursor: pointer;display: block;width: 100%;margin-bottom: 0;padding: 0.3em;box-sizing: border-box;text-align: center;}#sk-container-id-3 label.sk-toggleable__label-arrow:before {content: \"▸\";float: left;margin-right: 0.25em;color: #696969;}#sk-container-id-3 label.sk-toggleable__label-arrow:hover:before {color: black;}#sk-container-id-3 div.sk-estimator:hover label.sk-toggleable__label-arrow:before {color: black;}#sk-container-id-3 div.sk-toggleable__content {max-height: 0;max-width: 0;overflow: hidden;text-align: left;background-color: #f0f8ff;}#sk-container-id-3 div.sk-toggleable__content pre {margin: 0.2em;color: black;border-radius: 0.25em;background-color: #f0f8ff;}#sk-container-id-3 input.sk-toggleable__control:checked~div.sk-toggleable__content {max-height: 200px;max-width: 100%;overflow: auto;}#sk-container-id-3 input.sk-toggleable__control:checked~label.sk-toggleable__label-arrow:before {content: \"▾\";}#sk-container-id-3 div.sk-estimator input.sk-toggleable__control:checked~label.sk-toggleable__label {background-color: #d4ebff;}#sk-container-id-3 div.sk-label input.sk-toggleable__control:checked~label.sk-toggleable__label {background-color: #d4ebff;}#sk-container-id-3 input.sk-hidden--visually {border: 0;clip: rect(1px 1px 1px 1px);clip: rect(1px, 1px, 1px, 1px);height: 1px;margin: -1px;overflow: hidden;padding: 0;position: absolute;width: 1px;}#sk-container-id-3 div.sk-estimator {font-family: monospace;background-color: #f0f8ff;border: 1px dotted black;border-radius: 0.25em;box-sizing: border-box;margin-bottom: 0.5em;}#sk-container-id-3 div.sk-estimator:hover {background-color: #d4ebff;}#sk-container-id-3 div.sk-parallel-item::after {content: \"\";width: 100%;border-bottom: 1px solid gray;flex-grow: 1;}#sk-container-id-3 div.sk-label:hover label.sk-toggleable__label {background-color: #d4ebff;}#sk-container-id-3 div.sk-serial::before {content: \"\";position: absolute;border-left: 1px solid gray;box-sizing: border-box;top: 0;bottom: 0;left: 50%;z-index: 0;}#sk-container-id-3 div.sk-serial {display: flex;flex-direction: column;align-items: center;background-color: white;padding-right: 0.2em;padding-left: 0.2em;position: relative;}#sk-container-id-3 div.sk-item {position: relative;z-index: 1;}#sk-container-id-3 div.sk-parallel {display: flex;align-items: stretch;justify-content: center;background-color: white;position: relative;}#sk-container-id-3 div.sk-item::before, #sk-container-id-3 div.sk-parallel-item::before {content: \"\";position: absolute;border-left: 1px solid gray;box-sizing: border-box;top: 0;bottom: 0;left: 50%;z-index: -1;}#sk-container-id-3 div.sk-parallel-item {display: flex;flex-direction: column;z-index: 1;position: relative;background-color: white;}#sk-container-id-3 div.sk-parallel-item:first-child::after {align-self: flex-end;width: 50%;}#sk-container-id-3 div.sk-parallel-item:last-child::after {align-self: flex-start;width: 50%;}#sk-container-id-3 div.sk-parallel-item:only-child::after {width: 0;}#sk-container-id-3 div.sk-dashed-wrapped {border: 1px dashed gray;margin: 0 0.4em 0.5em 0.4em;box-sizing: border-box;padding-bottom: 0.4em;background-color: white;}#sk-container-id-3 div.sk-label label {font-family: monospace;font-weight: bold;display: inline-block;line-height: 1.2em;}#sk-container-id-3 div.sk-label-container {text-align: center;}#sk-container-id-3 div.sk-container {/* jupyter's `normalize.less` sets `[hidden] { display: none; }` but bootstrap.min.css set `[hidden] { display: none !important; }` so we also need the `!important` here to be able to override the default hidden behavior on the sphinx rendered scikit-learn.org. See: https://github.com/scikit-learn/scikit-learn/issues/21755 */display: inline-block !important;position: relative;}#sk-container-id-3 div.sk-text-repr-fallback {display: none;}</style><div id=\"sk-container-id-3\" class=\"sk-top-container\"><div class=\"sk-text-repr-fallback\"><pre>BayesSearchCV(cv=5, estimator=RandomForestClassifier(class_weight=&#x27;balanced&#x27;),\n",
       "              n_jobs=-1,\n",
       "              search_spaces={&#x27;max_depth&#x27;: Integer(low=1, high=50, prior=&#x27;uniform&#x27;, transform=&#x27;normalize&#x27;),\n",
       "                             &#x27;max_features&#x27;: [&#x27;sqrt&#x27;, &#x27;log2&#x27;, None],\n",
       "                             &#x27;min_samples_leaf&#x27;: Real(low=0.1, high=0.5, prior=&#x27;uniform&#x27;, transform=&#x27;normalize&#x27;),\n",
       "                             &#x27;n_estimators&#x27;: Integer(low=100, high=300, prior=&#x27;uniform&#x27;, transform=&#x27;normalize&#x27;)},\n",
       "              verbose=1)</pre><b>In a Jupyter environment, please rerun this cell to show the HTML representation or trust the notebook. <br />On GitHub, the HTML representation is unable to render, please try loading this page with nbviewer.org.</b></div><div class=\"sk-container\" hidden><div class=\"sk-item sk-dashed-wrapped\"><div class=\"sk-label-container\"><div class=\"sk-label sk-toggleable\"><input class=\"sk-toggleable__control sk-hidden--visually\" id=\"sk-estimator-id-7\" type=\"checkbox\" ><label for=\"sk-estimator-id-7\" class=\"sk-toggleable__label sk-toggleable__label-arrow\">BayesSearchCV</label><div class=\"sk-toggleable__content\"><pre>BayesSearchCV(cv=5, estimator=RandomForestClassifier(class_weight=&#x27;balanced&#x27;),\n",
       "              n_jobs=-1,\n",
       "              search_spaces={&#x27;max_depth&#x27;: Integer(low=1, high=50, prior=&#x27;uniform&#x27;, transform=&#x27;normalize&#x27;),\n",
       "                             &#x27;max_features&#x27;: [&#x27;sqrt&#x27;, &#x27;log2&#x27;, None],\n",
       "                             &#x27;min_samples_leaf&#x27;: Real(low=0.1, high=0.5, prior=&#x27;uniform&#x27;, transform=&#x27;normalize&#x27;),\n",
       "                             &#x27;n_estimators&#x27;: Integer(low=100, high=300, prior=&#x27;uniform&#x27;, transform=&#x27;normalize&#x27;)},\n",
       "              verbose=1)</pre></div></div></div><div class=\"sk-parallel\"><div class=\"sk-parallel-item\"><div class=\"sk-item\"><div class=\"sk-label-container\"><div class=\"sk-label sk-toggleable\"><input class=\"sk-toggleable__control sk-hidden--visually\" id=\"sk-estimator-id-8\" type=\"checkbox\" ><label for=\"sk-estimator-id-8\" class=\"sk-toggleable__label sk-toggleable__label-arrow\">estimator: RandomForestClassifier</label><div class=\"sk-toggleable__content\"><pre>RandomForestClassifier(class_weight=&#x27;balanced&#x27;)</pre></div></div></div><div class=\"sk-serial\"><div class=\"sk-item\"><div class=\"sk-estimator sk-toggleable\"><input class=\"sk-toggleable__control sk-hidden--visually\" id=\"sk-estimator-id-9\" type=\"checkbox\" ><label for=\"sk-estimator-id-9\" class=\"sk-toggleable__label sk-toggleable__label-arrow\">RandomForestClassifier</label><div class=\"sk-toggleable__content\"><pre>RandomForestClassifier(class_weight=&#x27;balanced&#x27;)</pre></div></div></div></div></div></div></div></div></div></div>"
      ],
      "text/plain": [
       "BayesSearchCV(cv=5, estimator=RandomForestClassifier(class_weight='balanced'),\n",
       "              n_jobs=-1,\n",
       "              search_spaces={'max_depth': Integer(low=1, high=50, prior='uniform', transform='normalize'),\n",
       "                             'max_features': ['sqrt', 'log2', None],\n",
       "                             'min_samples_leaf': Real(low=0.1, high=0.5, prior='uniform', transform='normalize'),\n",
       "                             'n_estimators': Integer(low=100, high=300, prior='uniform', transform='normalize')},\n",
       "              verbose=1)"
      ]
     },
     "execution_count": 19,
     "metadata": {},
     "output_type": "execute_result"
    }
   ],
   "source": [
    "import warnings\n",
    "warnings.filterwarnings('ignore')\n",
    "\n",
    "bs_brf.fit(Z_train, y_train.values.ravel())"
   ]
  },
  {
   "cell_type": "markdown",
   "id": "9086e95e-60b1-4bdc-94e4-b0fdc04c0e06",
   "metadata": {},
   "source": [
    "#### Model 2 Results: "
   ]
  },
  {
   "cell_type": "code",
   "execution_count": 20,
   "id": "4030f3f2-da71-40db-89d6-0590df1f2bba",
   "metadata": {},
   "outputs": [
    {
     "data": {
      "text/plain": [
       "OrderedDict([('max_depth', 15),\n",
       "             ('max_features', 'sqrt'),\n",
       "             ('min_samples_leaf', 0.1),\n",
       "             ('n_estimators', 300)])"
      ]
     },
     "execution_count": 20,
     "metadata": {},
     "output_type": "execute_result"
    }
   ],
   "source": [
    "bs_brf.best_params_"
   ]
  },
  {
   "cell_type": "code",
   "execution_count": 21,
   "id": "6862f61a-cb8d-446a-91b3-5117334d4868",
   "metadata": {},
   "outputs": [
    {
     "name": "stdout",
     "output_type": "stream",
     "text": [
      "The accuracy training score is    0.7633784655061251\n",
      "The accuracy testing score is     0.7506445672191528\n",
      "The bac score is                  0.7748734407952118\n",
      "The precision is                  0.8983451536643026\n",
      "The recall is                     0.6753554502369669\n"
     ]
    }
   ],
   "source": [
    "#predicted values \n",
    "brf_preds = bs_brf.predict(Z_test)\n",
    "\n",
    "#best scores\n",
    "print(f'The accuracy training score is    {bs_brf.score(Z_train, y_train)}')\n",
    "print(f'The accuracy testing score is     {bs_brf.score(Z_test, y_test)}')\n",
    "print(f'The bac score is                  {balanced_accuracy_score(y_test, brf_preds)}')\n",
    "print(f'The precision is                  {precision_score(y_test, brf_preds)}')\n",
    "print(f'The recall is                     {recall_score(y_test, brf_preds)}')"
   ]
  },
  {
   "cell_type": "code",
   "execution_count": 141,
   "id": "f3193aa6-5fc5-40af-bf1d-28f942aaf8ae",
   "metadata": {},
   "outputs": [
    {
     "data": {
      "image/png": "[encoded data removed]",
      "text/plain": [
       "<Figure size 432x288 with 2 Axes>"
      ]
     },
     "metadata": {
      "needs_background": "light"
     },
     "output_type": "display_data"
    }
   ],
   "source": [
    "#balanced random forest confusion matrix\n",
    "plot_confusion_matrix(bs_brf, Z_test, y_test, display_labels=['C25k', 'Advanced Running'])\n",
    "plt.title(\"Balanced Random Forest Classifier with BayesSearchCV\");"
   ]
  },
  {
   "cell_type": "code",
   "execution_count": 82,
   "id": "74810388-8437-45f8-9445-ca855b715726",
   "metadata": {},
   "outputs": [
    {
     "data": {
      "text/plain": [
       "array([7.45538866e-02, 2.74530572e-02, 4.18385920e-02, 9.23610328e-03,\n",
       "       5.91214523e-02, 7.01632868e-03, 1.09362312e-02, 0.00000000e+00,\n",
       "       0.00000000e+00, 0.00000000e+00, 0.00000000e+00, 1.20325892e-03,\n",
       "       0.00000000e+00, 9.52369422e-03, 0.00000000e+00, 0.00000000e+00,\n",
       "       0.00000000e+00, 0.00000000e+00, 0.00000000e+00, 0.00000000e+00,\n",
       "       0.00000000e+00, 0.00000000e+00, 0.00000000e+00, 0.00000000e+00,\n",
       "       0.00000000e+00, 0.00000000e+00, 0.00000000e+00, 0.00000000e+00,\n",
       "       0.00000000e+00, 0.00000000e+00, 1.96106676e-02, 0.00000000e+00,\n",
       "       0.00000000e+00, 0.00000000e+00, 0.00000000e+00, 6.83020568e-03,\n",
       "       0.00000000e+00, 0.00000000e+00, 0.00000000e+00, 0.00000000e+00,\n",
       "       3.85410995e-03, 0.00000000e+00, 0.00000000e+00, 4.44506797e-03,\n",
       "       2.40773276e-02, 2.11137521e-04, 0.00000000e+00, 0.00000000e+00,\n",
       "       2.34849144e-02, 0.00000000e+00, 0.00000000e+00, 0.00000000e+00,\n",
       "       0.00000000e+00, 0.00000000e+00, 0.00000000e+00, 0.00000000e+00,\n",
       "       0.00000000e+00, 1.24514556e-02, 8.02432345e-05, 0.00000000e+00,\n",
       "       8.54260913e-04, 0.00000000e+00, 0.00000000e+00, 3.26641184e-02,\n",
       "       0.00000000e+00, 1.51203962e-03, 0.00000000e+00, 2.50096869e-04,\n",
       "       1.00033271e-01, 0.00000000e+00, 8.68684361e-02, 0.00000000e+00,\n",
       "       0.00000000e+00, 4.24645865e-02, 6.58878581e-04, 3.09732278e-04,\n",
       "       0.00000000e+00, 3.24058730e-02, 0.00000000e+00, 0.00000000e+00,\n",
       "       0.00000000e+00, 4.24231338e-02, 0.00000000e+00, 0.00000000e+00,\n",
       "       0.00000000e+00, 0.00000000e+00, 0.00000000e+00, 0.00000000e+00,\n",
       "       7.53727237e-02, 2.87983892e-04, 0.00000000e+00, 0.00000000e+00,\n",
       "       1.16420657e-02, 0.00000000e+00, 0.00000000e+00, 0.00000000e+00,\n",
       "       0.00000000e+00, 0.00000000e+00, 3.09278870e-02, 0.00000000e+00,\n",
       "       0.00000000e+00, 0.00000000e+00, 0.00000000e+00, 0.00000000e+00,\n",
       "       5.02917489e-04, 1.34199576e-03, 1.67761663e-02, 0.00000000e+00,\n",
       "       4.32169122e-02, 8.56668020e-02, 1.14836751e-05, 0.00000000e+00,\n",
       "       5.68971773e-04, 0.00000000e+00, 5.96032022e-05, 0.00000000e+00,\n",
       "       1.92206327e-02, 5.45958127e-04, 0.00000000e+00, 0.00000000e+00,\n",
       "       3.74857356e-02])"
      ]
     },
     "execution_count": 82,
     "metadata": {},
     "output_type": "execute_result"
    }
   ],
   "source": [
    "# #Looking at feature importances \n",
    "bs_brf.best_estimator_.feature_importances_"
   ]
  },
  {
   "cell_type": "markdown",
   "id": "c92a93d2-7cbc-4d7a-965d-13121f88fe0b",
   "metadata": {},
   "source": [
    "---\n",
    "#### Model 3: PCA and Logistic Regression with BayesSearchCV"
   ]
  },
  {
   "cell_type": "code",
   "execution_count": 64,
   "id": "1aca01ae-2337-49ce-a261-104b3b7537e3",
   "metadata": {},
   "outputs": [],
   "source": [
    "# instantiating pca pipe with logisitic regression \n",
    "\n",
    "pipe=Pipeline([\n",
    "    ('pca', PCA()), \n",
    "    ('logreg', LogisticRegression(class_weight='balanced'))\n",
    "])\n",
    "\n",
    "pipe_params = {\n",
    "    'pca__n_components': [2,3,5],\n",
    "    'logreg__C': np.logspace(-4, 4, 50),\n",
    "}   \n",
    "\n",
    "bs_pipe=BayesSearchCV(\n",
    "    estimator=pipe,\n",
    "    search_spaces=pipe_params,\n",
    "    n_iter=50, \n",
    "    verbose=1,\n",
    "    cv=5,\n",
    "    n_jobs=-1\n",
    ")"
   ]
  },
  {
   "cell_type": "code",
   "execution_count": 65,
   "id": "47d3eaf5-378c-4f89-b1ec-572929e9b5c6",
   "metadata": {},
   "outputs": [
    {
     "name": "stdout",
     "output_type": "stream",
     "text": [
      "Fitting 5 folds for each of 1 candidates, totalling 5 fits\n",
      "Fitting 5 folds for each of 1 candidates, totalling 5 fits\n",
      "Fitting 5 folds for each of 1 candidates, totalling 5 fits\n",
      "Fitting 5 folds for each of 1 candidates, totalling 5 fits\n",
      "Fitting 5 folds for each of 1 candidates, totalling 5 fits\n",
      "Fitting 5 folds for each of 1 candidates, totalling 5 fits\n",
      "Fitting 5 folds for each of 1 candidates, totalling 5 fits\n",
      "Fitting 5 folds for each of 1 candidates, totalling 5 fits\n",
      "Fitting 5 folds for each of 1 candidates, totalling 5 fits\n",
      "Fitting 5 folds for each of 1 candidates, totalling 5 fits\n",
      "Fitting 5 folds for each of 1 candidates, totalling 5 fits\n",
      "Fitting 5 folds for each of 1 candidates, totalling 5 fits\n",
      "Fitting 5 folds for each of 1 candidates, totalling 5 fits\n",
      "Fitting 5 folds for each of 1 candidates, totalling 5 fits\n",
      "Fitting 5 folds for each of 1 candidates, totalling 5 fits\n",
      "Fitting 5 folds for each of 1 candidates, totalling 5 fits\n",
      "Fitting 5 folds for each of 1 candidates, totalling 5 fits\n",
      "Fitting 5 folds for each of 1 candidates, totalling 5 fits\n",
      "Fitting 5 folds for each of 1 candidates, totalling 5 fits\n",
      "Fitting 5 folds for each of 1 candidates, totalling 5 fits\n",
      "Fitting 5 folds for each of 1 candidates, totalling 5 fits\n",
      "Fitting 5 folds for each of 1 candidates, totalling 5 fits\n",
      "Fitting 5 folds for each of 1 candidates, totalling 5 fits\n",
      "Fitting 5 folds for each of 1 candidates, totalling 5 fits\n",
      "Fitting 5 folds for each of 1 candidates, totalling 5 fits\n",
      "Fitting 5 folds for each of 1 candidates, totalling 5 fits\n",
      "Fitting 5 folds for each of 1 candidates, totalling 5 fits\n",
      "Fitting 5 folds for each of 1 candidates, totalling 5 fits\n",
      "Fitting 5 folds for each of 1 candidates, totalling 5 fits\n",
      "Fitting 5 folds for each of 1 candidates, totalling 5 fits\n",
      "Fitting 5 folds for each of 1 candidates, totalling 5 fits\n",
      "Fitting 5 folds for each of 1 candidates, totalling 5 fits\n",
      "Fitting 5 folds for each of 1 candidates, totalling 5 fits\n",
      "Fitting 5 folds for each of 1 candidates, totalling 5 fits\n",
      "Fitting 5 folds for each of 1 candidates, totalling 5 fits\n",
      "Fitting 5 folds for each of 1 candidates, totalling 5 fits\n",
      "Fitting 5 folds for each of 1 candidates, totalling 5 fits\n",
      "Fitting 5 folds for each of 1 candidates, totalling 5 fits\n",
      "Fitting 5 folds for each of 1 candidates, totalling 5 fits\n",
      "Fitting 5 folds for each of 1 candidates, totalling 5 fits\n",
      "Fitting 5 folds for each of 1 candidates, totalling 5 fits\n",
      "Fitting 5 folds for each of 1 candidates, totalling 5 fits\n",
      "Fitting 5 folds for each of 1 candidates, totalling 5 fits\n",
      "Fitting 5 folds for each of 1 candidates, totalling 5 fits\n",
      "Fitting 5 folds for each of 1 candidates, totalling 5 fits\n",
      "Fitting 5 folds for each of 1 candidates, totalling 5 fits\n",
      "Fitting 5 folds for each of 1 candidates, totalling 5 fits\n",
      "Fitting 5 folds for each of 1 candidates, totalling 5 fits\n",
      "Fitting 5 folds for each of 1 candidates, totalling 5 fits\n",
      "Fitting 5 folds for each of 1 candidates, totalling 5 fits\n"
     ]
    },
    {
     "data": {
      "text/html": [
       "<style>#sk-container-id-5 {color: black;background-color: white;}#sk-container-id-5 pre{padding: 0;}#sk-container-id-5 div.sk-toggleable {background-color: white;}#sk-container-id-5 label.sk-toggleable__label {cursor: pointer;display: block;width: 100%;margin-bottom: 0;padding: 0.3em;box-sizing: border-box;text-align: center;}#sk-container-id-5 label.sk-toggleable__label-arrow:before {content: \"▸\";float: left;margin-right: 0.25em;color: #696969;}#sk-container-id-5 label.sk-toggleable__label-arrow:hover:before {color: black;}#sk-container-id-5 div.sk-estimator:hover label.sk-toggleable__label-arrow:before {color: black;}#sk-container-id-5 div.sk-toggleable__content {max-height: 0;max-width: 0;overflow: hidden;text-align: left;background-color: #f0f8ff;}#sk-container-id-5 div.sk-toggleable__content pre {margin: 0.2em;color: black;border-radius: 0.25em;background-color: #f0f8ff;}#sk-container-id-5 input.sk-toggleable__control:checked~div.sk-toggleable__content {max-height: 200px;max-width: 100%;overflow: auto;}#sk-container-id-5 input.sk-toggleable__control:checked~label.sk-toggleable__label-arrow:before {content: \"▾\";}#sk-container-id-5 div.sk-estimator input.sk-toggleable__control:checked~label.sk-toggleable__label {background-color: #d4ebff;}#sk-container-id-5 div.sk-label input.sk-toggleable__control:checked~label.sk-toggleable__label {background-color: #d4ebff;}#sk-container-id-5 input.sk-hidden--visually {border: 0;clip: rect(1px 1px 1px 1px);clip: rect(1px, 1px, 1px, 1px);height: 1px;margin: -1px;overflow: hidden;padding: 0;position: absolute;width: 1px;}#sk-container-id-5 div.sk-estimator {font-family: monospace;background-color: #f0f8ff;border: 1px dotted black;border-radius: 0.25em;box-sizing: border-box;margin-bottom: 0.5em;}#sk-container-id-5 div.sk-estimator:hover {background-color: #d4ebff;}#sk-container-id-5 div.sk-parallel-item::after {content: \"\";width: 100%;border-bottom: 1px solid gray;flex-grow: 1;}#sk-container-id-5 div.sk-label:hover label.sk-toggleable__label {background-color: #d4ebff;}#sk-container-id-5 div.sk-serial::before {content: \"\";position: absolute;border-left: 1px solid gray;box-sizing: border-box;top: 0;bottom: 0;left: 50%;z-index: 0;}#sk-container-id-5 div.sk-serial {display: flex;flex-direction: column;align-items: center;background-color: white;padding-right: 0.2em;padding-left: 0.2em;position: relative;}#sk-container-id-5 div.sk-item {position: relative;z-index: 1;}#sk-container-id-5 div.sk-parallel {display: flex;align-items: stretch;justify-content: center;background-color: white;position: relative;}#sk-container-id-5 div.sk-item::before, #sk-container-id-5 div.sk-parallel-item::before {content: \"\";position: absolute;border-left: 1px solid gray;box-sizing: border-box;top: 0;bottom: 0;left: 50%;z-index: -1;}#sk-container-id-5 div.sk-parallel-item {display: flex;flex-direction: column;z-index: 1;position: relative;background-color: white;}#sk-container-id-5 div.sk-parallel-item:first-child::after {align-self: flex-end;width: 50%;}#sk-container-id-5 div.sk-parallel-item:last-child::after {align-self: flex-start;width: 50%;}#sk-container-id-5 div.sk-parallel-item:only-child::after {width: 0;}#sk-container-id-5 div.sk-dashed-wrapped {border: 1px dashed gray;margin: 0 0.4em 0.5em 0.4em;box-sizing: border-box;padding-bottom: 0.4em;background-color: white;}#sk-container-id-5 div.sk-label label {font-family: monospace;font-weight: bold;display: inline-block;line-height: 1.2em;}#sk-container-id-5 div.sk-label-container {text-align: center;}#sk-container-id-5 div.sk-container {/* jupyter's `normalize.less` sets `[hidden] { display: none; }` but bootstrap.min.css set `[hidden] { display: none !important; }` so we also need the `!important` here to be able to override the default hidden behavior on the sphinx rendered scikit-learn.org. See: https://github.com/scikit-learn/scikit-learn/issues/21755 */display: inline-block !important;position: relative;}#sk-container-id-5 div.sk-text-repr-fallback {display: none;}</style><div id=\"sk-container-id-5\" class=\"sk-top-container\"><div class=\"sk-text-repr-fallback\"><pre>BayesSearchCV(cv=5,\n",
       "              estimator=Pipeline(steps=[(&#x27;pca&#x27;, PCA()),\n",
       "                                        (&#x27;logreg&#x27;,\n",
       "                                         LogisticRegression(class_weight=&#x27;balanced&#x27;))]),\n",
       "              n_jobs=-1,\n",
       "              search_spaces={&#x27;logreg__C&#x27;: array([1.00000000e-04, 1.45634848e-04, 2.12095089e-04, 3.08884360e-04,\n",
       "       4.49843267e-04, 6.55128557e-04, 9.54095476e-04, 1.38949549e-03,\n",
       "       2.02358965e-03, 2.94705170e-03, 4.29193426e-03, 6.25055193e-03,\n",
       "       9.10298178...\n",
       "       3.72759372e+00, 5.42867544e+00, 7.90604321e+00, 1.15139540e+01,\n",
       "       1.67683294e+01, 2.44205309e+01, 3.55648031e+01, 5.17947468e+01,\n",
       "       7.54312006e+01, 1.09854114e+02, 1.59985872e+02, 2.32995181e+02,\n",
       "       3.39322177e+02, 4.94171336e+02, 7.19685673e+02, 1.04811313e+03,\n",
       "       1.52641797e+03, 2.22299648e+03, 3.23745754e+03, 4.71486636e+03,\n",
       "       6.86648845e+03, 1.00000000e+04]),\n",
       "                             &#x27;pca__n_components&#x27;: [2, 3, 5]},\n",
       "              verbose=1)</pre><b>In a Jupyter environment, please rerun this cell to show the HTML representation or trust the notebook. <br />On GitHub, the HTML representation is unable to render, please try loading this page with nbviewer.org.</b></div><div class=\"sk-container\" hidden><div class=\"sk-item sk-dashed-wrapped\"><div class=\"sk-label-container\"><div class=\"sk-label sk-toggleable\"><input class=\"sk-toggleable__control sk-hidden--visually\" id=\"sk-estimator-id-13\" type=\"checkbox\" ><label for=\"sk-estimator-id-13\" class=\"sk-toggleable__label sk-toggleable__label-arrow\">BayesSearchCV</label><div class=\"sk-toggleable__content\"><pre>BayesSearchCV(cv=5,\n",
       "              estimator=Pipeline(steps=[(&#x27;pca&#x27;, PCA()),\n",
       "                                        (&#x27;logreg&#x27;,\n",
       "                                         LogisticRegression(class_weight=&#x27;balanced&#x27;))]),\n",
       "              n_jobs=-1,\n",
       "              search_spaces={&#x27;logreg__C&#x27;: array([1.00000000e-04, 1.45634848e-04, 2.12095089e-04, 3.08884360e-04,\n",
       "       4.49843267e-04, 6.55128557e-04, 9.54095476e-04, 1.38949549e-03,\n",
       "       2.02358965e-03, 2.94705170e-03, 4.29193426e-03, 6.25055193e-03,\n",
       "       9.10298178...\n",
       "       3.72759372e+00, 5.42867544e+00, 7.90604321e+00, 1.15139540e+01,\n",
       "       1.67683294e+01, 2.44205309e+01, 3.55648031e+01, 5.17947468e+01,\n",
       "       7.54312006e+01, 1.09854114e+02, 1.59985872e+02, 2.32995181e+02,\n",
       "       3.39322177e+02, 4.94171336e+02, 7.19685673e+02, 1.04811313e+03,\n",
       "       1.52641797e+03, 2.22299648e+03, 3.23745754e+03, 4.71486636e+03,\n",
       "       6.86648845e+03, 1.00000000e+04]),\n",
       "                             &#x27;pca__n_components&#x27;: [2, 3, 5]},\n",
       "              verbose=1)</pre></div></div></div><div class=\"sk-parallel\"><div class=\"sk-parallel-item\"><div class=\"sk-item\"><div class=\"sk-label-container\"><div class=\"sk-label sk-toggleable\"><input class=\"sk-toggleable__control sk-hidden--visually\" id=\"sk-estimator-id-14\" type=\"checkbox\" ><label for=\"sk-estimator-id-14\" class=\"sk-toggleable__label sk-toggleable__label-arrow\">estimator: Pipeline</label><div class=\"sk-toggleable__content\"><pre>Pipeline(steps=[(&#x27;pca&#x27;, PCA()),\n",
       "                (&#x27;logreg&#x27;, LogisticRegression(class_weight=&#x27;balanced&#x27;))])</pre></div></div></div><div class=\"sk-serial\"><div class=\"sk-item\"><div class=\"sk-serial\"><div class=\"sk-item\"><div class=\"sk-estimator sk-toggleable\"><input class=\"sk-toggleable__control sk-hidden--visually\" id=\"sk-estimator-id-15\" type=\"checkbox\" ><label for=\"sk-estimator-id-15\" class=\"sk-toggleable__label sk-toggleable__label-arrow\">PCA</label><div class=\"sk-toggleable__content\"><pre>PCA()</pre></div></div></div><div class=\"sk-item\"><div class=\"sk-estimator sk-toggleable\"><input class=\"sk-toggleable__control sk-hidden--visually\" id=\"sk-estimator-id-16\" type=\"checkbox\" ><label for=\"sk-estimator-id-16\" class=\"sk-toggleable__label sk-toggleable__label-arrow\">LogisticRegression</label><div class=\"sk-toggleable__content\"><pre>LogisticRegression(class_weight=&#x27;balanced&#x27;)</pre></div></div></div></div></div></div></div></div></div></div></div></div>"
      ],
      "text/plain": [
       "BayesSearchCV(cv=5,\n",
       "              estimator=Pipeline(steps=[('pca', PCA()),\n",
       "                                        ('logreg',\n",
       "                                         LogisticRegression(class_weight='balanced'))]),\n",
       "              n_jobs=-1,\n",
       "              search_spaces={'logreg__C': array([1.00000000e-04, 1.45634848e-04, 2.12095089e-04, 3.08884360e-04,\n",
       "       4.49843267e-04, 6.55128557e-04, 9.54095476e-04, 1.38949549e-03,\n",
       "       2.02358965e-03, 2.94705170e-03, 4.29193426e-03, 6.25055193e-03,\n",
       "       9.10298178...\n",
       "       3.72759372e+00, 5.42867544e+00, 7.90604321e+00, 1.15139540e+01,\n",
       "       1.67683294e+01, 2.44205309e+01, 3.55648031e+01, 5.17947468e+01,\n",
       "       7.54312006e+01, 1.09854114e+02, 1.59985872e+02, 2.32995181e+02,\n",
       "       3.39322177e+02, 4.94171336e+02, 7.19685673e+02, 1.04811313e+03,\n",
       "       1.52641797e+03, 2.22299648e+03, 3.23745754e+03, 4.71486636e+03,\n",
       "       6.86648845e+03, 1.00000000e+04]),\n",
       "                             'pca__n_components': [2, 3, 5]},\n",
       "              verbose=1)"
      ]
     },
     "execution_count": 65,
     "metadata": {},
     "output_type": "execute_result"
    }
   ],
   "source": [
    "import warnings\n",
    "warnings.filterwarnings('ignore')\n",
    "\n",
    "bs_pipe.fit(Z_train, y_train.values.ravel())"
   ]
  },
  {
   "cell_type": "markdown",
   "id": "9d0fc167-b2d6-4ec0-b594-4b6a4a96df13",
   "metadata": {},
   "source": [
    "#### Model 3 Results:"
   ]
  },
  {
   "cell_type": "code",
   "execution_count": 66,
   "id": "80a8f3db-e032-4672-805e-76f4e30fbd52",
   "metadata": {},
   "outputs": [
    {
     "data": {
      "text/plain": [
       "OrderedDict([('logreg__C', 1.2067926406393288), ('pca__n_components', 5)])"
      ]
     },
     "execution_count": 66,
     "metadata": {},
     "output_type": "execute_result"
    }
   ],
   "source": [
    "bs_pipe.best_params_"
   ]
  },
  {
   "cell_type": "code",
   "execution_count": 67,
   "id": "484cb535-d575-4041-b94c-4f7c610f3b3c",
   "metadata": {},
   "outputs": [
    {
     "name": "stdout",
     "output_type": "stream",
     "text": [
      "The accuracy training score is    0.8873537809708022\n",
      "The accuracy testing score is     0.8939226519337017\n",
      "The bac score is                  0.8927676086886298\n",
      "The precision is                  0.9294478527607362\n",
      "The recall is                     0.8975118483412322\n"
     ]
    }
   ],
   "source": [
    "#predicted values \n",
    "pipe_preds = bs_pipe.predict(Z_test)\n",
    "\n",
    "#best scores\n",
    "print(f'The accuracy training score is    {bs_pipe.score(Z_train, y_train)}')\n",
    "print(f'The accuracy testing score is     {bs_pipe.score(Z_test, y_test)}')\n",
    "print(f'The bac score is                  {balanced_accuracy_score(y_test, pipe_preds)}')\n",
    "print(f'The precision is                  {precision_score(y_test, pipe_preds)}')\n",
    "print(f'The recall is                     {recall_score(y_test, pipe_preds)}')"
   ]
  },
  {
   "cell_type": "code",
   "execution_count": 142,
   "id": "9b4883c0-3f9a-4d49-8b65-45a1cb19fd8b",
   "metadata": {},
   "outputs": [
    {
     "data": {
      "image/png": "[encoded data removed]",
      "text/plain": [
       "<Figure size 432x288 with 2 Axes>"
      ]
     },
     "metadata": {
      "needs_background": "light"
     },
     "output_type": "display_data"
    }
   ],
   "source": [
    "#pca/logreg confusion matrix\n",
    "plot_confusion_matrix(bs_pipe, Z_test, y_test, display_labels=['C25k', 'Advanced Running'])\n",
    "plt.title('PCA and Logistic Regression with BayesSearchCV');"
   ]
  },
  {
   "cell_type": "code",
   "execution_count": 86,
   "id": "62a2a494-5a94-4670-bb7c-a5f61417a14b",
   "metadata": {},
   "outputs": [
    {
     "data": {
      "text/plain": [
       "array([ 1.3371665 , -0.99267779,  0.15504327, -0.08795133,  1.40256813])"
      ]
     },
     "execution_count": 86,
     "metadata": {},
     "output_type": "execute_result"
    }
   ],
   "source": [
    "#feature importances \n",
    "bs_pipe.best_estimator_.named_steps['logreg'].coef_"
   ]
  },
  {
   "cell_type": "markdown",
   "id": "c67e18da-1cfc-4d22-af52-eb21add3215b",
   "metadata": {},
   "source": [
    "---\n",
    "\n",
    "#### Model 4: Balanced Logistic Regression with BayesSearchCV"
   ]
  },
  {
   "cell_type": "code",
   "execution_count": 93,
   "id": "5908cc75-2801-479b-baa6-26fa46c2e5bd",
   "metadata": {},
   "outputs": [],
   "source": [
    "#modeling logreg by itself \n",
    "logreg = LogisticRegression(class_weight='balanced')\n",
    "\n",
    "\n",
    "pipe_logreg_params = {\n",
    "    'C': np.logspace(-4, 4, 50), \n",
    "    'max_iter': [500, 1000]\n",
    "}   \n",
    "\n",
    "bs_logreg=BayesSearchCV(\n",
    "    estimator=logreg,\n",
    "    search_spaces=pipe_logreg_params,\n",
    "    n_iter=50, \n",
    "    verbose=1,\n",
    "    cv=5,\n",
    "    n_jobs=-1\n",
    ")"
   ]
  },
  {
   "cell_type": "code",
   "execution_count": 94,
   "id": "10de5b7e-da7f-4d23-8004-e27c4559d8de",
   "metadata": {},
   "outputs": [
    {
     "name": "stdout",
     "output_type": "stream",
     "text": [
      "Fitting 5 folds for each of 1 candidates, totalling 5 fits\n",
      "Fitting 5 folds for each of 1 candidates, totalling 5 fits\n",
      "Fitting 5 folds for each of 1 candidates, totalling 5 fits\n",
      "Fitting 5 folds for each of 1 candidates, totalling 5 fits\n",
      "Fitting 5 folds for each of 1 candidates, totalling 5 fits\n",
      "Fitting 5 folds for each of 1 candidates, totalling 5 fits\n",
      "Fitting 5 folds for each of 1 candidates, totalling 5 fits\n",
      "Fitting 5 folds for each of 1 candidates, totalling 5 fits\n",
      "Fitting 5 folds for each of 1 candidates, totalling 5 fits\n",
      "Fitting 5 folds for each of 1 candidates, totalling 5 fits\n",
      "Fitting 5 folds for each of 1 candidates, totalling 5 fits\n",
      "Fitting 5 folds for each of 1 candidates, totalling 5 fits\n",
      "Fitting 5 folds for each of 1 candidates, totalling 5 fits\n",
      "Fitting 5 folds for each of 1 candidates, totalling 5 fits\n",
      "Fitting 5 folds for each of 1 candidates, totalling 5 fits\n",
      "Fitting 5 folds for each of 1 candidates, totalling 5 fits\n",
      "Fitting 5 folds for each of 1 candidates, totalling 5 fits\n",
      "Fitting 5 folds for each of 1 candidates, totalling 5 fits\n",
      "Fitting 5 folds for each of 1 candidates, totalling 5 fits\n",
      "Fitting 5 folds for each of 1 candidates, totalling 5 fits\n",
      "Fitting 5 folds for each of 1 candidates, totalling 5 fits\n",
      "Fitting 5 folds for each of 1 candidates, totalling 5 fits\n",
      "Fitting 5 folds for each of 1 candidates, totalling 5 fits\n",
      "Fitting 5 folds for each of 1 candidates, totalling 5 fits\n",
      "Fitting 5 folds for each of 1 candidates, totalling 5 fits\n",
      "Fitting 5 folds for each of 1 candidates, totalling 5 fits\n",
      "Fitting 5 folds for each of 1 candidates, totalling 5 fits\n",
      "Fitting 5 folds for each of 1 candidates, totalling 5 fits\n",
      "Fitting 5 folds for each of 1 candidates, totalling 5 fits\n",
      "Fitting 5 folds for each of 1 candidates, totalling 5 fits\n",
      "Fitting 5 folds for each of 1 candidates, totalling 5 fits\n",
      "Fitting 5 folds for each of 1 candidates, totalling 5 fits\n",
      "Fitting 5 folds for each of 1 candidates, totalling 5 fits\n",
      "Fitting 5 folds for each of 1 candidates, totalling 5 fits\n",
      "Fitting 5 folds for each of 1 candidates, totalling 5 fits\n",
      "Fitting 5 folds for each of 1 candidates, totalling 5 fits\n",
      "Fitting 5 folds for each of 1 candidates, totalling 5 fits\n",
      "Fitting 5 folds for each of 1 candidates, totalling 5 fits\n",
      "Fitting 5 folds for each of 1 candidates, totalling 5 fits\n",
      "Fitting 5 folds for each of 1 candidates, totalling 5 fits\n",
      "Fitting 5 folds for each of 1 candidates, totalling 5 fits\n",
      "Fitting 5 folds for each of 1 candidates, totalling 5 fits\n",
      "Fitting 5 folds for each of 1 candidates, totalling 5 fits\n",
      "Fitting 5 folds for each of 1 candidates, totalling 5 fits\n",
      "Fitting 5 folds for each of 1 candidates, totalling 5 fits\n",
      "Fitting 5 folds for each of 1 candidates, totalling 5 fits\n",
      "Fitting 5 folds for each of 1 candidates, totalling 5 fits\n",
      "Fitting 5 folds for each of 1 candidates, totalling 5 fits\n",
      "Fitting 5 folds for each of 1 candidates, totalling 5 fits\n",
      "Fitting 5 folds for each of 1 candidates, totalling 5 fits\n"
     ]
    },
    {
     "data": {
      "text/html": [
       "<style>#sk-container-id-8 {color: black;background-color: white;}#sk-container-id-8 pre{padding: 0;}#sk-container-id-8 div.sk-toggleable {background-color: white;}#sk-container-id-8 label.sk-toggleable__label {cursor: pointer;display: block;width: 100%;margin-bottom: 0;padding: 0.3em;box-sizing: border-box;text-align: center;}#sk-container-id-8 label.sk-toggleable__label-arrow:before {content: \"▸\";float: left;margin-right: 0.25em;color: #696969;}#sk-container-id-8 label.sk-toggleable__label-arrow:hover:before {color: black;}#sk-container-id-8 div.sk-estimator:hover label.sk-toggleable__label-arrow:before {color: black;}#sk-container-id-8 div.sk-toggleable__content {max-height: 0;max-width: 0;overflow: hidden;text-align: left;background-color: #f0f8ff;}#sk-container-id-8 div.sk-toggleable__content pre {margin: 0.2em;color: black;border-radius: 0.25em;background-color: #f0f8ff;}#sk-container-id-8 input.sk-toggleable__control:checked~div.sk-toggleable__content {max-height: 200px;max-width: 100%;overflow: auto;}#sk-container-id-8 input.sk-toggleable__control:checked~label.sk-toggleable__label-arrow:before {content: \"▾\";}#sk-container-id-8 div.sk-estimator input.sk-toggleable__control:checked~label.sk-toggleable__label {background-color: #d4ebff;}#sk-container-id-8 div.sk-label input.sk-toggleable__control:checked~label.sk-toggleable__label {background-color: #d4ebff;}#sk-container-id-8 input.sk-hidden--visually {border: 0;clip: rect(1px 1px 1px 1px);clip: rect(1px, 1px, 1px, 1px);height: 1px;margin: -1px;overflow: hidden;padding: 0;position: absolute;width: 1px;}#sk-container-id-8 div.sk-estimator {font-family: monospace;background-color: #f0f8ff;border: 1px dotted black;border-radius: 0.25em;box-sizing: border-box;margin-bottom: 0.5em;}#sk-container-id-8 div.sk-estimator:hover {background-color: #d4ebff;}#sk-container-id-8 div.sk-parallel-item::after {content: \"\";width: 100%;border-bottom: 1px solid gray;flex-grow: 1;}#sk-container-id-8 div.sk-label:hover label.sk-toggleable__label {background-color: #d4ebff;}#sk-container-id-8 div.sk-serial::before {content: \"\";position: absolute;border-left: 1px solid gray;box-sizing: border-box;top: 0;bottom: 0;left: 50%;z-index: 0;}#sk-container-id-8 div.sk-serial {display: flex;flex-direction: column;align-items: center;background-color: white;padding-right: 0.2em;padding-left: 0.2em;position: relative;}#sk-container-id-8 div.sk-item {position: relative;z-index: 1;}#sk-container-id-8 div.sk-parallel {display: flex;align-items: stretch;justify-content: center;background-color: white;position: relative;}#sk-container-id-8 div.sk-item::before, #sk-container-id-8 div.sk-parallel-item::before {content: \"\";position: absolute;border-left: 1px solid gray;box-sizing: border-box;top: 0;bottom: 0;left: 50%;z-index: -1;}#sk-container-id-8 div.sk-parallel-item {display: flex;flex-direction: column;z-index: 1;position: relative;background-color: white;}#sk-container-id-8 div.sk-parallel-item:first-child::after {align-self: flex-end;width: 50%;}#sk-container-id-8 div.sk-parallel-item:last-child::after {align-self: flex-start;width: 50%;}#sk-container-id-8 div.sk-parallel-item:only-child::after {width: 0;}#sk-container-id-8 div.sk-dashed-wrapped {border: 1px dashed gray;margin: 0 0.4em 0.5em 0.4em;box-sizing: border-box;padding-bottom: 0.4em;background-color: white;}#sk-container-id-8 div.sk-label label {font-family: monospace;font-weight: bold;display: inline-block;line-height: 1.2em;}#sk-container-id-8 div.sk-label-container {text-align: center;}#sk-container-id-8 div.sk-container {/* jupyter's `normalize.less` sets `[hidden] { display: none; }` but bootstrap.min.css set `[hidden] { display: none !important; }` so we also need the `!important` here to be able to override the default hidden behavior on the sphinx rendered scikit-learn.org. See: https://github.com/scikit-learn/scikit-learn/issues/21755 */display: inline-block !important;position: relative;}#sk-container-id-8 div.sk-text-repr-fallback {display: none;}</style><div id=\"sk-container-id-8\" class=\"sk-top-container\"><div class=\"sk-text-repr-fallback\"><pre>BayesSearchCV(cv=5, estimator=LogisticRegression(class_weight=&#x27;balanced&#x27;),\n",
       "              n_jobs=-1,\n",
       "              search_spaces={&#x27;C&#x27;: array([1.00000000e-04, 1.45634848e-04, 2.12095089e-04, 3.08884360e-04,\n",
       "       4.49843267e-04, 6.55128557e-04, 9.54095476e-04, 1.38949549e-03,\n",
       "       2.02358965e-03, 2.94705170e-03, 4.29193426e-03, 6.25055193e-03,\n",
       "       9.10298178e-03, 1.32571137e-02, 1.93069773e-02, 2.81176870e-02,\n",
       "       4...\n",
       "       3.72759372e+00, 5.42867544e+00, 7.90604321e+00, 1.15139540e+01,\n",
       "       1.67683294e+01, 2.44205309e+01, 3.55648031e+01, 5.17947468e+01,\n",
       "       7.54312006e+01, 1.09854114e+02, 1.59985872e+02, 2.32995181e+02,\n",
       "       3.39322177e+02, 4.94171336e+02, 7.19685673e+02, 1.04811313e+03,\n",
       "       1.52641797e+03, 2.22299648e+03, 3.23745754e+03, 4.71486636e+03,\n",
       "       6.86648845e+03, 1.00000000e+04]),\n",
       "                             &#x27;max_iter&#x27;: [500, 1000]},\n",
       "              verbose=1)</pre><b>In a Jupyter environment, please rerun this cell to show the HTML representation or trust the notebook. <br />On GitHub, the HTML representation is unable to render, please try loading this page with nbviewer.org.</b></div><div class=\"sk-container\" hidden><div class=\"sk-item sk-dashed-wrapped\"><div class=\"sk-label-container\"><div class=\"sk-label sk-toggleable\"><input class=\"sk-toggleable__control sk-hidden--visually\" id=\"sk-estimator-id-22\" type=\"checkbox\" ><label for=\"sk-estimator-id-22\" class=\"sk-toggleable__label sk-toggleable__label-arrow\">BayesSearchCV</label><div class=\"sk-toggleable__content\"><pre>BayesSearchCV(cv=5, estimator=LogisticRegression(class_weight=&#x27;balanced&#x27;),\n",
       "              n_jobs=-1,\n",
       "              search_spaces={&#x27;C&#x27;: array([1.00000000e-04, 1.45634848e-04, 2.12095089e-04, 3.08884360e-04,\n",
       "       4.49843267e-04, 6.55128557e-04, 9.54095476e-04, 1.38949549e-03,\n",
       "       2.02358965e-03, 2.94705170e-03, 4.29193426e-03, 6.25055193e-03,\n",
       "       9.10298178e-03, 1.32571137e-02, 1.93069773e-02, 2.81176870e-02,\n",
       "       4...\n",
       "       3.72759372e+00, 5.42867544e+00, 7.90604321e+00, 1.15139540e+01,\n",
       "       1.67683294e+01, 2.44205309e+01, 3.55648031e+01, 5.17947468e+01,\n",
       "       7.54312006e+01, 1.09854114e+02, 1.59985872e+02, 2.32995181e+02,\n",
       "       3.39322177e+02, 4.94171336e+02, 7.19685673e+02, 1.04811313e+03,\n",
       "       1.52641797e+03, 2.22299648e+03, 3.23745754e+03, 4.71486636e+03,\n",
       "       6.86648845e+03, 1.00000000e+04]),\n",
       "                             &#x27;max_iter&#x27;: [500, 1000]},\n",
       "              verbose=1)</pre></div></div></div><div class=\"sk-parallel\"><div class=\"sk-parallel-item\"><div class=\"sk-item\"><div class=\"sk-label-container\"><div class=\"sk-label sk-toggleable\"><input class=\"sk-toggleable__control sk-hidden--visually\" id=\"sk-estimator-id-23\" type=\"checkbox\" ><label for=\"sk-estimator-id-23\" class=\"sk-toggleable__label sk-toggleable__label-arrow\">estimator: LogisticRegression</label><div class=\"sk-toggleable__content\"><pre>LogisticRegression(class_weight=&#x27;balanced&#x27;)</pre></div></div></div><div class=\"sk-serial\"><div class=\"sk-item\"><div class=\"sk-estimator sk-toggleable\"><input class=\"sk-toggleable__control sk-hidden--visually\" id=\"sk-estimator-id-24\" type=\"checkbox\" ><label for=\"sk-estimator-id-24\" class=\"sk-toggleable__label sk-toggleable__label-arrow\">LogisticRegression</label><div class=\"sk-toggleable__content\"><pre>LogisticRegression(class_weight=&#x27;balanced&#x27;)</pre></div></div></div></div></div></div></div></div></div></div>"
      ],
      "text/plain": [
       "BayesSearchCV(cv=5, estimator=LogisticRegression(class_weight='balanced'),\n",
       "              n_jobs=-1,\n",
       "              search_spaces={'C': array([1.00000000e-04, 1.45634848e-04, 2.12095089e-04, 3.08884360e-04,\n",
       "       4.49843267e-04, 6.55128557e-04, 9.54095476e-04, 1.38949549e-03,\n",
       "       2.02358965e-03, 2.94705170e-03, 4.29193426e-03, 6.25055193e-03,\n",
       "       9.10298178e-03, 1.32571137e-02, 1.93069773e-02, 2.81176870e-02,\n",
       "       4...\n",
       "       3.72759372e+00, 5.42867544e+00, 7.90604321e+00, 1.15139540e+01,\n",
       "       1.67683294e+01, 2.44205309e+01, 3.55648031e+01, 5.17947468e+01,\n",
       "       7.54312006e+01, 1.09854114e+02, 1.59985872e+02, 2.32995181e+02,\n",
       "       3.39322177e+02, 4.94171336e+02, 7.19685673e+02, 1.04811313e+03,\n",
       "       1.52641797e+03, 2.22299648e+03, 3.23745754e+03, 4.71486636e+03,\n",
       "       6.86648845e+03, 1.00000000e+04]),\n",
       "                             'max_iter': [500, 1000]},\n",
       "              verbose=1)"
      ]
     },
     "execution_count": 94,
     "metadata": {},
     "output_type": "execute_result"
    }
   ],
   "source": [
    "bs_logreg.fit(Z_train, y_train.values.ravel())"
   ]
  },
  {
   "cell_type": "markdown",
   "id": "c4bc9d81-70c5-46b2-8100-84403fb50091",
   "metadata": {},
   "source": [
    "#### Model 3 Results:"
   ]
  },
  {
   "cell_type": "code",
   "execution_count": 95,
   "id": "16394189-c7c3-4a40-9875-5b9f69722d04",
   "metadata": {},
   "outputs": [
    {
     "data": {
      "text/plain": [
       "OrderedDict([('C', 2222.996482526191), ('max_iter', 1000)])"
      ]
     },
     "execution_count": 95,
     "metadata": {},
     "output_type": "execute_result"
    }
   ],
   "source": [
    "bs_logreg.best_params_"
   ]
  },
  {
   "cell_type": "code",
   "execution_count": 96,
   "id": "a54bdfde-3f87-41e7-8f4d-1f92f0cc1b03",
   "metadata": {},
   "outputs": [
    {
     "name": "stdout",
     "output_type": "stream",
     "text": [
      "The accuracy training score is    0.9241963710048816\n",
      "The accuracy testing score is     0.9244935543278084\n",
      "The bac score is                  0.9209751980876524\n",
      "The precision is                  0.9426865671641791\n",
      "The recall is                     0.9354265402843602\n"
     ]
    }
   ],
   "source": [
    "#predicted values \n",
    "logreg_preds = bs_logreg.predict(Z_test)\n",
    "\n",
    "#best scores\n",
    "print(f'The accuracy training score is    {bs_logreg.score(Z_train, y_train)}')\n",
    "print(f'The accuracy testing score is     {bs_logreg.score(Z_test, y_test)}')\n",
    "print(f'The bac score is                  {balanced_accuracy_score(y_test, logreg_preds)}')\n",
    "print(f'The precision is                  {precision_score(y_test, logreg_preds)}')\n",
    "print(f'The recall is                     {recall_score(y_test, logreg_preds)}')"
   ]
  },
  {
   "cell_type": "raw",
   "id": "2d93e6da-36d9-4986-880e-cb49d10bc67e",
   "metadata": {},
   "source": [
    "#logreg confusion matrix\n",
    "plot_confusion_matrix(bs_logreg, Z_test, y_test, display_labels=['C25k', 'Advanced Running'])\n",
    "plt.title('Logistic Regression with BayesSearchCV');"
   ]
  },
  {
   "cell_type": "code",
   "execution_count": 131,
   "id": "79ae0b0d-6091-47cd-b6e2-c11ca77cca96",
   "metadata": {},
   "outputs": [
    {
     "data": {
      "text/plain": [
       "array([[ 6.91968391e+00, -4.62394834e+00,  1.36310087e+00,\n",
       "         1.86356962e+00,  2.49887919e+00,  5.01824648e-02,\n",
       "         1.21810198e-01,  7.32135716e-02,  1.07097631e-01,\n",
       "         1.89518657e-01,  2.46855343e-01,  5.60502509e-02,\n",
       "         5.03086857e-02,  8.95952740e-02,  3.45637197e-01,\n",
       "         2.22885131e-01, -4.78141286e-01, -8.62311735e-02,\n",
       "        -5.96769768e-02, -1.00885039e-01,  1.32270632e-02,\n",
       "         2.45137459e-01,  1.50748386e-01, -6.66569638e-02,\n",
       "         6.43040289e-02, -4.25506514e+00,  2.66992184e-02,\n",
       "         2.67925726e-02, -7.36870387e-01,  2.31499784e-02,\n",
       "        -3.03987339e-01, -1.95205411e-01, -1.38002302e-01,\n",
       "        -1.36362569e-01, -7.77464966e-02,  1.45450109e-01,\n",
       "        -1.20625270e-01,  8.37070348e-02, -1.25270549e-01,\n",
       "        -8.72898273e-03, -6.76387662e-02, -7.85526101e-02,\n",
       "        -1.38089988e-01, -5.08992953e-01,  6.12725488e-02,\n",
       "        -6.29577592e-02, -2.70551827e-02,  2.56337716e-02,\n",
       "         7.56699383e-02, -2.88801872e-01, -4.03844717e-02,\n",
       "         7.34801406e-03,  2.08589095e-01,  6.11745549e-02,\n",
       "         7.47115246e-02,  2.07247976e-02,  2.18532963e-01,\n",
       "        -7.70339430e-02,  7.24189344e-02, -6.19637592e-03,\n",
       "         1.62607610e-01, -5.94149554e-02, -8.88000125e-02,\n",
       "         1.14724565e-01,  3.69096614e-01,  4.58706178e-02,\n",
       "         6.27020871e-02, -1.32146627e-01,  1.30682546e+00,\n",
       "         4.86252211e-03,  3.85167883e-01,  5.00644145e-01,\n",
       "        -2.67871345e-01, -6.00306936e-01,  9.90586810e-02,\n",
       "        -2.21691191e-02, -4.10836330e-02,  8.39814776e-02,\n",
       "         1.20812082e-01,  5.82857087e-02, -3.24572464e-02,\n",
       "         1.24210669e-01, -1.73618233e-02, -2.35214776e-02,\n",
       "         7.40332732e-01,  7.18415571e-02, -4.56729579e-01,\n",
       "         7.05336446e-02,  1.04574508e+00, -4.57267985e-02,\n",
       "        -2.90140327e-02,  3.03817906e-02,  2.02724411e-01,\n",
       "         3.30290177e-02,  1.45952804e-02, -1.11884329e-01,\n",
       "        -1.18873775e-01, -3.37268239e-02, -4.50205767e-01,\n",
       "        -2.46422260e-01,  1.14662724e-01, -5.07529658e-04,\n",
       "         9.20809815e-02, -1.95874331e-02, -3.32572684e-02,\n",
       "        -2.82595767e-02, -3.62077387e-01,  1.42191073e-01,\n",
       "         2.59695829e-01,  6.89254543e-01,  1.39150506e-02,\n",
       "        -3.35748950e-02, -4.53086582e-04, -3.87976938e-01,\n",
       "        -4.47447326e-02, -4.70890849e-02, -2.98487944e-01,\n",
       "         2.57608232e-02,  2.49421223e-01,  2.59650776e-01,\n",
       "         1.12789329e-01]])"
      ]
     },
     "execution_count": 131,
     "metadata": {},
     "output_type": "execute_result"
    }
   ],
   "source": [
    "#feature importances \n",
    "bs_logreg.best_estimator_.coef_"
   ]
  },
  {
   "cell_type": "code",
   "execution_count": 132,
   "id": "53d0057c-33a3-40f4-ae1f-1701979b52df",
   "metadata": {},
   "outputs": [
    {
     "data": {
      "text/html": [
       "<div>\n",
       "<style scoped>\n",
       "    .dataframe tbody tr th:only-of-type {\n",
       "        vertical-align: middle;\n",
       "    }\n",
       "\n",
       "    .dataframe tbody tr th {\n",
       "        vertical-align: top;\n",
       "    }\n",
       "\n",
       "    .dataframe thead th {\n",
       "        text-align: right;\n",
       "    }\n",
       "</style>\n",
       "<table border=\"1\" class=\"dataframe\">\n",
       "  <thead>\n",
       "    <tr style=\"text-align: right;\">\n",
       "      <th></th>\n",
       "      <th>coef</th>\n",
       "      <th>features</th>\n",
       "      <th>odds_ratio</th>\n",
       "    </tr>\n",
       "  </thead>\n",
       "  <tbody>\n",
       "    <tr>\n",
       "      <th>0</th>\n",
       "      <td>6.919684</td>\n",
       "      <td>post_length</td>\n",
       "      <td>1012.000058</td>\n",
       "    </tr>\n",
       "    <tr>\n",
       "      <th>1</th>\n",
       "      <td>-4.623948</td>\n",
       "      <td>post_word_count</td>\n",
       "      <td>0.009814</td>\n",
       "    </tr>\n",
       "    <tr>\n",
       "      <th>2</th>\n",
       "      <td>1.363101</td>\n",
       "      <td>neg</td>\n",
       "      <td>3.908294</td>\n",
       "    </tr>\n",
       "    <tr>\n",
       "      <th>3</th>\n",
       "      <td>1.863570</td>\n",
       "      <td>pos</td>\n",
       "      <td>6.446708</td>\n",
       "    </tr>\n",
       "    <tr>\n",
       "      <th>4</th>\n",
       "      <td>2.498879</td>\n",
       "      <td>neu</td>\n",
       "      <td>12.168847</td>\n",
       "    </tr>\n",
       "  </tbody>\n",
       "</table>\n",
       "</div>"
      ],
      "text/plain": [
       "       coef         features   odds_ratio\n",
       "0  6.919684      post_length  1012.000058\n",
       "1 -4.623948  post_word_count     0.009814\n",
       "2  1.363101              neg     3.908294\n",
       "3  1.863570              pos     6.446708\n",
       "4  2.498879              neu    12.168847"
      ]
     },
     "execution_count": 132,
     "metadata": {},
     "output_type": "execute_result"
    }
   ],
   "source": [
    "#feature importances into dataframe \n",
    "coef_df=pd.DataFrame(bs_logreg.best_estimator_.coef_.T, columns=['coef'])\n",
    "coef_df['features']=X_train.columns\n",
    "coef_df['odds_ratio']=np.exp(coef_df['coef'])\n",
    "coef_df.head()"
   ]
  },
  {
   "cell_type": "code",
   "execution_count": 123,
   "id": "91083d7a-3d49-47b3-a98a-fc22198c819d",
   "metadata": {},
   "outputs": [],
   "source": [
    "#save coef_df to csv\n",
    "coef_df.to_csv('logreg_coef_df.csv', index=False)"
   ]
  },
  {
   "cell_type": "code",
   "execution_count": 129,
   "id": "6cdac870-57c1-46ac-b15a-0c69cc7f4f65",
   "metadata": {},
   "outputs": [
    {
     "data": {
      "text/html": [
       "<div>\n",
       "<style scoped>\n",
       "    .dataframe tbody tr th:only-of-type {\n",
       "        vertical-align: middle;\n",
       "    }\n",
       "\n",
       "    .dataframe tbody tr th {\n",
       "        vertical-align: top;\n",
       "    }\n",
       "\n",
       "    .dataframe thead th {\n",
       "        text-align: right;\n",
       "    }\n",
       "</style>\n",
       "<table border=\"1\" class=\"dataframe\">\n",
       "  <thead>\n",
       "    <tr style=\"text-align: right;\">\n",
       "      <th></th>\n",
       "      <th>coef</th>\n",
       "      <th>features</th>\n",
       "      <th>odds_ratio</th>\n",
       "    </tr>\n",
       "  </thead>\n",
       "  <tbody>\n",
       "    <tr>\n",
       "      <th>0</th>\n",
       "      <td>6.919684</td>\n",
       "      <td>post_length</td>\n",
       "      <td>1012.000058</td>\n",
       "    </tr>\n",
       "    <tr>\n",
       "      <th>4</th>\n",
       "      <td>2.498879</td>\n",
       "      <td>neu</td>\n",
       "      <td>12.168847</td>\n",
       "    </tr>\n",
       "    <tr>\n",
       "      <th>3</th>\n",
       "      <td>1.863570</td>\n",
       "      <td>pos</td>\n",
       "      <td>6.446708</td>\n",
       "    </tr>\n",
       "    <tr>\n",
       "      <th>2</th>\n",
       "      <td>1.363101</td>\n",
       "      <td>neg</td>\n",
       "      <td>3.908294</td>\n",
       "    </tr>\n",
       "    <tr>\n",
       "      <th>68</th>\n",
       "      <td>1.306825</td>\n",
       "      <td>marathon</td>\n",
       "      <td>3.694427</td>\n",
       "    </tr>\n",
       "    <tr>\n",
       "      <th>88</th>\n",
       "      <td>1.045745</td>\n",
       "      <td>race</td>\n",
       "      <td>2.845518</td>\n",
       "    </tr>\n",
       "    <tr>\n",
       "      <th>84</th>\n",
       "      <td>0.740333</td>\n",
       "      <td>pr</td>\n",
       "      <td>2.096633</td>\n",
       "    </tr>\n",
       "    <tr>\n",
       "      <th>109</th>\n",
       "      <td>0.689255</td>\n",
       "      <td>training</td>\n",
       "      <td>1.992230</td>\n",
       "    </tr>\n",
       "    <tr>\n",
       "      <th>71</th>\n",
       "      <td>0.500644</td>\n",
       "      <td>mileage</td>\n",
       "      <td>1.649784</td>\n",
       "    </tr>\n",
       "    <tr>\n",
       "      <th>70</th>\n",
       "      <td>0.385168</td>\n",
       "      <td>mile</td>\n",
       "      <td>1.469861</td>\n",
       "    </tr>\n",
       "    <tr>\n",
       "      <th>64</th>\n",
       "      <td>0.369097</td>\n",
       "      <td>long run</td>\n",
       "      <td>1.446427</td>\n",
       "    </tr>\n",
       "    <tr>\n",
       "      <th>14</th>\n",
       "      <td>0.345637</td>\n",
       "      <td>40</td>\n",
       "      <td>1.412890</td>\n",
       "    </tr>\n",
       "    <tr>\n",
       "      <th>108</th>\n",
       "      <td>0.259696</td>\n",
       "      <td>train</td>\n",
       "      <td>1.296536</td>\n",
       "    </tr>\n",
       "    <tr>\n",
       "      <th>119</th>\n",
       "      <td>0.259651</td>\n",
       "      <td>www</td>\n",
       "      <td>1.296477</td>\n",
       "    </tr>\n",
       "    <tr>\n",
       "      <th>118</th>\n",
       "      <td>0.249421</td>\n",
       "      <td>workout</td>\n",
       "      <td>1.283282</td>\n",
       "    </tr>\n",
       "  </tbody>\n",
       "</table>\n",
       "</div>"
      ],
      "text/plain": [
       "         coef     features   odds_ratio\n",
       "0    6.919684  post_length  1012.000058\n",
       "4    2.498879          neu    12.168847\n",
       "3    1.863570          pos     6.446708\n",
       "2    1.363101          neg     3.908294\n",
       "68   1.306825     marathon     3.694427\n",
       "88   1.045745         race     2.845518\n",
       "84   0.740333           pr     2.096633\n",
       "109  0.689255     training     1.992230\n",
       "71   0.500644      mileage     1.649784\n",
       "70   0.385168         mile     1.469861\n",
       "64   0.369097     long run     1.446427\n",
       "14   0.345637           40     1.412890\n",
       "108  0.259696        train     1.296536\n",
       "119  0.259651          www     1.296477\n",
       "118  0.249421      workout     1.283282"
      ]
     },
     "execution_count": 129,
     "metadata": {},
     "output_type": "execute_result"
    }
   ],
   "source": [
    "#looking at top 20 predictive of r/AdvancedRunning\n",
    "top20_advanced=coef_df.sort_values(by='coef', ascending=False).head(15)\n",
    "top20_advanced"
   ]
  },
  {
   "cell_type": "code",
   "execution_count": 127,
   "id": "1232f7c4-e193-4620-b12c-3b62cc0d69e0",
   "metadata": {},
   "outputs": [
    {
     "data": {
      "text/html": [
       "<div>\n",
       "<style scoped>\n",
       "    .dataframe tbody tr th:only-of-type {\n",
       "        vertical-align: middle;\n",
       "    }\n",
       "\n",
       "    .dataframe tbody tr th {\n",
       "        vertical-align: top;\n",
       "    }\n",
       "\n",
       "    .dataframe thead th {\n",
       "        text-align: right;\n",
       "    }\n",
       "</style>\n",
       "<table border=\"1\" class=\"dataframe\">\n",
       "  <thead>\n",
       "    <tr style=\"text-align: right;\">\n",
       "      <th></th>\n",
       "      <th>coef</th>\n",
       "      <th>features</th>\n",
       "      <th>odds_ratio</th>\n",
       "    </tr>\n",
       "  </thead>\n",
       "  <tbody>\n",
       "    <tr>\n",
       "      <th>1</th>\n",
       "      <td>-4.623948</td>\n",
       "      <td>post_word_count</td>\n",
       "      <td>0.009814</td>\n",
       "    </tr>\n",
       "    <tr>\n",
       "      <th>25</th>\n",
       "      <td>-4.255065</td>\n",
       "      <td>c25k</td>\n",
       "      <td>0.014192</td>\n",
       "    </tr>\n",
       "    <tr>\n",
       "      <th>28</th>\n",
       "      <td>-0.736870</td>\n",
       "      <td>complete</td>\n",
       "      <td>0.478609</td>\n",
       "    </tr>\n",
       "    <tr>\n",
       "      <th>73</th>\n",
       "      <td>-0.600307</td>\n",
       "      <td>minute</td>\n",
       "      <td>0.548643</td>\n",
       "    </tr>\n",
       "    <tr>\n",
       "      <th>43</th>\n",
       "      <td>-0.508993</td>\n",
       "      <td>finish</td>\n",
       "      <td>0.601101</td>\n",
       "    </tr>\n",
       "    <tr>\n",
       "      <th>16</th>\n",
       "      <td>-0.478141</td>\n",
       "      <td>5k</td>\n",
       "      <td>0.619935</td>\n",
       "    </tr>\n",
       "    <tr>\n",
       "      <th>86</th>\n",
       "      <td>-0.456730</td>\n",
       "      <td>program</td>\n",
       "      <td>0.633352</td>\n",
       "    </tr>\n",
       "    <tr>\n",
       "      <th>98</th>\n",
       "      <td>-0.450206</td>\n",
       "      <td>start</td>\n",
       "      <td>0.637497</td>\n",
       "    </tr>\n",
       "    <tr>\n",
       "      <th>113</th>\n",
       "      <td>-0.387977</td>\n",
       "      <td>walk</td>\n",
       "      <td>0.678428</td>\n",
       "    </tr>\n",
       "    <tr>\n",
       "      <th>106</th>\n",
       "      <td>-0.362077</td>\n",
       "      <td>today</td>\n",
       "      <td>0.696228</td>\n",
       "    </tr>\n",
       "    <tr>\n",
       "      <th>30</th>\n",
       "      <td>-0.303987</td>\n",
       "      <td>day</td>\n",
       "      <td>0.737870</td>\n",
       "    </tr>\n",
       "    <tr>\n",
       "      <th>116</th>\n",
       "      <td>-0.298488</td>\n",
       "      <td>week</td>\n",
       "      <td>0.741939</td>\n",
       "    </tr>\n",
       "    <tr>\n",
       "      <th>49</th>\n",
       "      <td>-0.288802</td>\n",
       "      <td>half marathon</td>\n",
       "      <td>0.749161</td>\n",
       "    </tr>\n",
       "    <tr>\n",
       "      <th>72</th>\n",
       "      <td>-0.267871</td>\n",
       "      <td>min</td>\n",
       "      <td>0.765006</td>\n",
       "    </tr>\n",
       "    <tr>\n",
       "      <th>99</th>\n",
       "      <td>-0.246422</td>\n",
       "      <td>stop</td>\n",
       "      <td>0.781592</td>\n",
       "    </tr>\n",
       "    <tr>\n",
       "      <th>31</th>\n",
       "      <td>-0.195205</td>\n",
       "      <td>decide</td>\n",
       "      <td>0.822666</td>\n",
       "    </tr>\n",
       "    <tr>\n",
       "      <th>42</th>\n",
       "      <td>-0.138090</td>\n",
       "      <td>felt</td>\n",
       "      <td>0.871020</td>\n",
       "    </tr>\n",
       "    <tr>\n",
       "      <th>32</th>\n",
       "      <td>-0.138002</td>\n",
       "      <td>didn</td>\n",
       "      <td>0.871097</td>\n",
       "    </tr>\n",
       "    <tr>\n",
       "      <th>33</th>\n",
       "      <td>-0.136363</td>\n",
       "      <td>distance</td>\n",
       "      <td>0.872526</td>\n",
       "    </tr>\n",
       "    <tr>\n",
       "      <th>67</th>\n",
       "      <td>-0.132147</td>\n",
       "      <td>make</td>\n",
       "      <td>0.876213</td>\n",
       "    </tr>\n",
       "  </tbody>\n",
       "</table>\n",
       "</div>"
      ],
      "text/plain": [
       "         coef         features  odds_ratio\n",
       "1   -4.623948  post_word_count    0.009814\n",
       "25  -4.255065             c25k    0.014192\n",
       "28  -0.736870         complete    0.478609\n",
       "73  -0.600307           minute    0.548643\n",
       "43  -0.508993           finish    0.601101\n",
       "16  -0.478141               5k    0.619935\n",
       "86  -0.456730          program    0.633352\n",
       "98  -0.450206            start    0.637497\n",
       "113 -0.387977             walk    0.678428\n",
       "106 -0.362077            today    0.696228\n",
       "30  -0.303987              day    0.737870\n",
       "116 -0.298488             week    0.741939\n",
       "49  -0.288802    half marathon    0.749161\n",
       "72  -0.267871              min    0.765006\n",
       "99  -0.246422             stop    0.781592\n",
       "31  -0.195205           decide    0.822666\n",
       "42  -0.138090             felt    0.871020\n",
       "32  -0.138002             didn    0.871097\n",
       "33  -0.136363         distance    0.872526\n",
       "67  -0.132147             make    0.876213"
      ]
     },
     "execution_count": 127,
     "metadata": {},
     "output_type": "execute_result"
    }
   ],
   "source": [
    "#Looking at top 20 predictive of r/c25k\n",
    "top20_c25k=coef_df.sort_values(by='coef').head(20)\n",
    "top20_c25k"
   ]
  },
  {
   "cell_type": "markdown",
   "id": "11c87aa1-188c-4d0a-9f16-e9e03c00d0af",
   "metadata": {},
   "source": [
    "#### Model Results (All grid searched using BayesSearchCV):\n",
    "**Model**|**Training Accuracy**|**Testing Accuracy**|**Balanced Testing Accuracy**|**Precision**|\n",
    "--|--|--|--|--|\n",
    "Random Forest|0.7462|0.7366|0.7639|0.8964|\n",
    "Balanced Random Forest|0.7634|0.7506|0.7749|0.8983|\n",
    "PCA, Logistic Regression|0.8873|0.8939|0.8928|0.9294|\n",
    "Balanced Logistic Regression|0.9241|0.9244|0.9209|0.9427|\n",
    "\n",
    "\n",
    "\n",
    "All models performed better than the null model. Out of all four models ran, the Balanced Logistic Regression model performed the best. No models showed signs of being significantly overfit, but bias was decreased with each new model. This ultimately led to an optimal bias/variance trade-off in the final Logistic Regression model. When balanced, the best Logistic Regression model accounts for 92.09% variance in classifying the target variable (r/AdvancdRunning). \n",
    "\n",
    "For this particular problem, it is more important to optimize for precision (minimize false positives). Our goal is to re-target Advanced Runners. We want to minimize falsely predicting r/AdvancedRunning when we are actually predicting r/C25K. This will lead to producing retargeting marketing materials that are not effective for the Advanced Running segmentation."
   ]
  },
  {
   "cell_type": "markdown",
   "id": "1d5c068a-2725-46db-8bbc-6e1eb29c712f",
   "metadata": {},
   "source": [
    "---\n",
    "## Conclusions and Recommendations:"
   ]
  },
  {
   "cell_type": "markdown",
   "id": "99c69e8a-1a54-45a3-8b57-b613ddb14040",
   "metadata": {},
   "source": [
    "The best model at predicting r/AdvancedRunning was the Balanced Logistic Regression Model. This model accounted for 92.09% variance in classifying the target variable. \n",
    "\n",
    "Some words that were predictive of r/AdvancedRunning were: \n",
    "- Posts containing \"marathon\" had a 3.69 increase in odds of being in r/AdvancedRunning. \n",
    "- Posts containing \"pr\" had a 2.09 increase in odds of being in r/AdvancedRunning. \n",
    "- Posts containing \"mileage\" had a 1.64 increase in odds of being in r/AdvanceRunning. \n",
    "- Posts containing \"long run\" had a 1.44 increase in odds of being in r/AdvancedRunning. \n",
    "- Posts containing \"injury\" had a 1.24 increase in odds of being in r/AdvancedRunning. \n",
    "- r/AdvancedRunning showed having higher odds of having positive, neutral and negative sentiment than r/C25K did. This explains more variation in sentiment across all posts. \n",
    "\n",
    "- Posts containing \"c25k\" had a 98% (1-0.14192) reduction in odds of being in r/AdvancedRunning.\n",
    "- Posts containing \"5K\" had a 38% reduction in odds of being in r/AdvancedRunning. \n",
    "- Posts containing \"Program\" had a 36.67% reduction in odds of being in r/AdvancedRunning.\n",
    "- Posts containing \"start\" had a 36.25% reduction in odds of being in r/AdvancedRunning.\n",
    "- Posts containing \"walk\" had a 32.15% reduction in odds of being in r/AdvancedRunning. \n",
    "- Posts containing \"stop\" had a 21.84% reduction in odds of being in r/AdvancedRunning. \n",
    "\n",
    "Not surprisingly, seemingly more competitive words are predictive of being in r/AdvancedRunning. Words predictive of being in r/C25k are more linked to beginning programs, shorter runs and walking. As a result, I recommend that re-targeting content for advanced runners should be aimed around tips for longer runs, how to get a pr in your next race, and how to prevent and deal with injury.  \n",
    "\n",
    "I will continue to improve this project. I want to look more deeply into sentiment analysis after modeling, add a boosting model and clean up my vectorizing sections.\n",
    "\n",
    "---"
   ]
  },
  {
   "cell_type": "code",
   "execution_count": null,
   "id": "d329e1f8-b23c-4d89-9812-eb7bf9860014",
   "metadata": {},
   "outputs": [],
   "source": []
  }
 ],
 "metadata": {
  "kernelspec": {
   "display_name": "Python [conda env:dsi]",
   "language": "python",
   "name": "conda-env-dsi-py"
  },
  "language_info": {
   "codemirror_mode": {
    "name": "ipython",
    "version": 3
   },
   "file_extension": ".py",
   "mimetype": "text/x-python",
   "name": "python",
   "nbconvert_exporter": "python",
   "pygments_lexer": "ipython3",
   "version": "3.9.7"
  }
 },
 "nbformat": 4,
 "nbformat_minor": 5
}
